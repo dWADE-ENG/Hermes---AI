{
  "cells": [
    {
      "cell_type": "markdown",
      "metadata": {
        "id": "WR_rxRE2VCL3"
      },
      "source": [
        "# HERMES 0.3"
      ]
    },
    {
      "cell_type": "code",
      "execution_count": 2,
      "metadata": {
        "id": "2Daw6wtpWUoF"
      },
      "outputs": [],
      "source": [
        "#import signal\n",
        "#os.kill(os.getpid(), signal.SIGKILL)\n",
        "#!rm -rf /content/*"
      ]
    },
    {
      "cell_type": "code",
      "execution_count": 3,
      "metadata": {
        "colab": {
          "base_uri": "https://localhost:8080/"
        },
        "id": "pj_6OIcsWjRn",
        "outputId": "a7e16d46-2894-4c8e-844f-1ea4d1aa3052"
      },
      "outputs": [
        {
          "output_type": "stream",
          "name": "stdout",
          "text": [
            "Requirement already satisfied: albumentations in /usr/local/lib/python3.12/dist-packages (2.0.8)\n",
            "Requirement already satisfied: tqdm in /usr/local/lib/python3.12/dist-packages (4.67.1)\n",
            "Collecting segmentation-models-pytorch\n",
            "  Downloading segmentation_models_pytorch-0.5.0-py3-none-any.whl.metadata (17 kB)\n",
            "Requirement already satisfied: torchvision in /usr/local/lib/python3.12/dist-packages (0.23.0+cu126)\n",
            "Requirement already satisfied: numpy>=1.24.4 in /usr/local/lib/python3.12/dist-packages (from albumentations) (2.0.2)\n",
            "Requirement already satisfied: scipy>=1.10.0 in /usr/local/lib/python3.12/dist-packages (from albumentations) (1.16.1)\n",
            "Requirement already satisfied: PyYAML in /usr/local/lib/python3.12/dist-packages (from albumentations) (6.0.2)\n",
            "Requirement already satisfied: pydantic>=2.9.2 in /usr/local/lib/python3.12/dist-packages (from albumentations) (2.11.7)\n",
            "Requirement already satisfied: albucore==0.0.24 in /usr/local/lib/python3.12/dist-packages (from albumentations) (0.0.24)\n",
            "Requirement already satisfied: opencv-python-headless>=4.9.0.80 in /usr/local/lib/python3.12/dist-packages (from albumentations) (4.12.0.88)\n",
            "Requirement already satisfied: stringzilla>=3.10.4 in /usr/local/lib/python3.12/dist-packages (from albucore==0.0.24->albumentations) (3.12.6)\n",
            "Requirement already satisfied: simsimd>=5.9.2 in /usr/local/lib/python3.12/dist-packages (from albucore==0.0.24->albumentations) (6.5.1)\n",
            "Requirement already satisfied: huggingface-hub>=0.24 in /usr/local/lib/python3.12/dist-packages (from segmentation-models-pytorch) (0.34.4)\n",
            "Requirement already satisfied: pillow>=8 in /usr/local/lib/python3.12/dist-packages (from segmentation-models-pytorch) (11.3.0)\n",
            "Requirement already satisfied: safetensors>=0.3.1 in /usr/local/lib/python3.12/dist-packages (from segmentation-models-pytorch) (0.6.2)\n",
            "Requirement already satisfied: timm>=0.9 in /usr/local/lib/python3.12/dist-packages (from segmentation-models-pytorch) (1.0.19)\n",
            "Requirement already satisfied: torch>=1.8 in /usr/local/lib/python3.12/dist-packages (from segmentation-models-pytorch) (2.8.0+cu126)\n",
            "Requirement already satisfied: filelock in /usr/local/lib/python3.12/dist-packages (from torch>=1.8->segmentation-models-pytorch) (3.19.1)\n",
            "Requirement already satisfied: typing-extensions>=4.10.0 in /usr/local/lib/python3.12/dist-packages (from torch>=1.8->segmentation-models-pytorch) (4.15.0)\n",
            "Requirement already satisfied: setuptools in /usr/local/lib/python3.12/dist-packages (from torch>=1.8->segmentation-models-pytorch) (75.2.0)\n",
            "Requirement already satisfied: sympy>=1.13.3 in /usr/local/lib/python3.12/dist-packages (from torch>=1.8->segmentation-models-pytorch) (1.13.3)\n",
            "Requirement already satisfied: networkx in /usr/local/lib/python3.12/dist-packages (from torch>=1.8->segmentation-models-pytorch) (3.5)\n",
            "Requirement already satisfied: jinja2 in /usr/local/lib/python3.12/dist-packages (from torch>=1.8->segmentation-models-pytorch) (3.1.6)\n",
            "Requirement already satisfied: fsspec in /usr/local/lib/python3.12/dist-packages (from torch>=1.8->segmentation-models-pytorch) (2025.3.0)\n",
            "Requirement already satisfied: nvidia-cuda-nvrtc-cu12==12.6.77 in /usr/local/lib/python3.12/dist-packages (from torch>=1.8->segmentation-models-pytorch) (12.6.77)\n",
            "Requirement already satisfied: nvidia-cuda-runtime-cu12==12.6.77 in /usr/local/lib/python3.12/dist-packages (from torch>=1.8->segmentation-models-pytorch) (12.6.77)\n",
            "Requirement already satisfied: nvidia-cuda-cupti-cu12==12.6.80 in /usr/local/lib/python3.12/dist-packages (from torch>=1.8->segmentation-models-pytorch) (12.6.80)\n",
            "Requirement already satisfied: nvidia-cudnn-cu12==9.10.2.21 in /usr/local/lib/python3.12/dist-packages (from torch>=1.8->segmentation-models-pytorch) (9.10.2.21)\n",
            "Requirement already satisfied: nvidia-cublas-cu12==12.6.4.1 in /usr/local/lib/python3.12/dist-packages (from torch>=1.8->segmentation-models-pytorch) (12.6.4.1)\n",
            "Requirement already satisfied: nvidia-cufft-cu12==11.3.0.4 in /usr/local/lib/python3.12/dist-packages (from torch>=1.8->segmentation-models-pytorch) (11.3.0.4)\n",
            "Requirement already satisfied: nvidia-curand-cu12==10.3.7.77 in /usr/local/lib/python3.12/dist-packages (from torch>=1.8->segmentation-models-pytorch) (10.3.7.77)\n",
            "Requirement already satisfied: nvidia-cusolver-cu12==11.7.1.2 in /usr/local/lib/python3.12/dist-packages (from torch>=1.8->segmentation-models-pytorch) (11.7.1.2)\n",
            "Requirement already satisfied: nvidia-cusparse-cu12==12.5.4.2 in /usr/local/lib/python3.12/dist-packages (from torch>=1.8->segmentation-models-pytorch) (12.5.4.2)\n",
            "Requirement already satisfied: nvidia-cusparselt-cu12==0.7.1 in /usr/local/lib/python3.12/dist-packages (from torch>=1.8->segmentation-models-pytorch) (0.7.1)\n",
            "Requirement already satisfied: nvidia-nccl-cu12==2.27.3 in /usr/local/lib/python3.12/dist-packages (from torch>=1.8->segmentation-models-pytorch) (2.27.3)\n",
            "Requirement already satisfied: nvidia-nvtx-cu12==12.6.77 in /usr/local/lib/python3.12/dist-packages (from torch>=1.8->segmentation-models-pytorch) (12.6.77)\n",
            "Requirement already satisfied: nvidia-nvjitlink-cu12==12.6.85 in /usr/local/lib/python3.12/dist-packages (from torch>=1.8->segmentation-models-pytorch) (12.6.85)\n",
            "Requirement already satisfied: nvidia-cufile-cu12==1.11.1.6 in /usr/local/lib/python3.12/dist-packages (from torch>=1.8->segmentation-models-pytorch) (1.11.1.6)\n",
            "Requirement already satisfied: triton==3.4.0 in /usr/local/lib/python3.12/dist-packages (from torch>=1.8->segmentation-models-pytorch) (3.4.0)\n",
            "Requirement already satisfied: packaging>=20.9 in /usr/local/lib/python3.12/dist-packages (from huggingface-hub>=0.24->segmentation-models-pytorch) (25.0)\n",
            "Requirement already satisfied: requests in /usr/local/lib/python3.12/dist-packages (from huggingface-hub>=0.24->segmentation-models-pytorch) (2.32.4)\n",
            "Requirement already satisfied: hf-xet<2.0.0,>=1.1.3 in /usr/local/lib/python3.12/dist-packages (from huggingface-hub>=0.24->segmentation-models-pytorch) (1.1.8)\n",
            "Requirement already satisfied: annotated-types>=0.6.0 in /usr/local/lib/python3.12/dist-packages (from pydantic>=2.9.2->albumentations) (0.7.0)\n",
            "Requirement already satisfied: pydantic-core==2.33.2 in /usr/local/lib/python3.12/dist-packages (from pydantic>=2.9.2->albumentations) (2.33.2)\n",
            "Requirement already satisfied: typing-inspection>=0.4.0 in /usr/local/lib/python3.12/dist-packages (from pydantic>=2.9.2->albumentations) (0.4.1)\n",
            "Requirement already satisfied: mpmath<1.4,>=1.1.0 in /usr/local/lib/python3.12/dist-packages (from sympy>=1.13.3->torch>=1.8->segmentation-models-pytorch) (1.3.0)\n",
            "Requirement already satisfied: MarkupSafe>=2.0 in /usr/local/lib/python3.12/dist-packages (from jinja2->torch>=1.8->segmentation-models-pytorch) (3.0.2)\n",
            "Requirement already satisfied: charset_normalizer<4,>=2 in /usr/local/lib/python3.12/dist-packages (from requests->huggingface-hub>=0.24->segmentation-models-pytorch) (3.4.3)\n",
            "Requirement already satisfied: idna<4,>=2.5 in /usr/local/lib/python3.12/dist-packages (from requests->huggingface-hub>=0.24->segmentation-models-pytorch) (3.10)\n",
            "Requirement already satisfied: urllib3<3,>=1.21.1 in /usr/local/lib/python3.12/dist-packages (from requests->huggingface-hub>=0.24->segmentation-models-pytorch) (2.5.0)\n",
            "Requirement already satisfied: certifi>=2017.4.17 in /usr/local/lib/python3.12/dist-packages (from requests->huggingface-hub>=0.24->segmentation-models-pytorch) (2025.8.3)\n",
            "Downloading segmentation_models_pytorch-0.5.0-py3-none-any.whl (154 kB)\n",
            "\u001b[2K   \u001b[90m━━━━━━━━━━━━━━━━━━━━━━━━━━━━━━━━━━━━━━━━\u001b[0m \u001b[32m154.8/154.8 kB\u001b[0m \u001b[31m13.5 MB/s\u001b[0m eta \u001b[36m0:00:00\u001b[0m\n",
            "\u001b[?25hInstalling collected packages: segmentation-models-pytorch\n",
            "Successfully installed segmentation-models-pytorch-0.5.0\n"
          ]
        }
      ],
      "source": [
        "!pip install albumentations tqdm segmentation-models-pytorch torchvision"
      ]
    },
    {
      "cell_type": "markdown",
      "metadata": {
        "id": "bBVFudt5U7Y5"
      },
      "source": [
        "## IMPORTS AND DEPENDENCIES"
      ]
    },
    {
      "cell_type": "code",
      "execution_count": 4,
      "metadata": {
        "id": "J00SrcNPVyO6"
      },
      "outputs": [],
      "source": [
        "import torch\n",
        "import torch.nn as nn\n",
        "import torch.nn.functional as F\n",
        "from torch.utils.data import Dataset, DataLoader, ConcatDataset\n",
        "from torch.cuda.amp import GradScaler, autocast\n",
        "from torch.nn.parallel import DataParallel\n",
        "\n",
        "#Computer Vision and image processing\n",
        "import cv2\n",
        "import numpy as np\n",
        "from PIL import Image\n",
        "\n",
        "#Torchvision for pretrained models and transforms\n",
        "import torchvision\n",
        "from torchvision import transforms\n",
        "from torchvision.models.segmentation import deeplabv3_resnet50, deeplabv3_resnet101\n",
        "\n",
        "#Data augmentation library\n",
        "import albumentations as A\n",
        "from albumentations.pytorch import ToTensorV2\n",
        "\n",
        "#Utilities\n",
        "import os\n",
        "import glob\n",
        "import zipfile\n",
        "import shutil\n",
        "from tqdm import tqdm\n",
        "import matplotlib.pyplot as plt\n",
        "import seaborn as sns\n",
        "from datetime import datetime\n",
        "import json\n",
        "import pickle\n",
        "\n",
        "\n",
        "#Optional: Weights & Biases for experiment tracking\n",
        "#try:\n",
        "  #import wandb\n",
        "  #WANDB_AVAILABLE = True\n",
        "#except ImportError:\n",
        "  #WANDB_AVAILABLE = False\n",
        "  #print(\"Warning: Weights & Biases not installed. Please install with `pip install wandb`\")\n"
      ]
    },
    {
      "cell_type": "markdown",
      "metadata": {
        "id": "iT9TVIsFU3DE"
      },
      "source": [
        "## Config\n"
      ]
    },
    {
      "cell_type": "code",
      "execution_count": 5,
      "metadata": {
        "id": "xBet-zahUlez"
      },
      "outputs": [],
      "source": [
        "#Set random seeds for reproducbility\n",
        "def set_seed(seed=42):\n",
        "  \"\"\"Set random seeds for reproducibility\"\"\"\n",
        "  np.random.seed(seed)\n",
        "  torch.manual_seed(seed)\n",
        "  torch.cuda.manual_seed(seed)\n",
        "  torch.backends.cudnn.deterministic = True\n",
        "  torch.backends.cudnn.benchmark = False\n",
        "\n",
        "set_seed(42)\n",
        "\n",
        "#Configuration and Parameters\n",
        "\n",
        "class Config:\n",
        "  #model architecture\n",
        "  backbone = 'resnet101'\n",
        "  num_classes_flood = 2\n",
        "  num_classes_damage = 4\n",
        "  #training parameters\n",
        "  batch_size= 32\n",
        "  accumulation_steps = 4\n",
        "  num_epochs = 30\n",
        "  learning_rate = 1e-4\n",
        "  weight_decay = 1e-4\n",
        "  #data loading\n",
        "  num_workers = 8\n",
        "  pin_memory = True\n",
        "  prefetch_factor = 4\n",
        "  persistent_workers = True\n",
        "  # image dimensions\n",
        "  img_height = 512\n",
        "  img_width = 512\n",
        "  # loss weighs\n",
        "  ce_weight = 0.5\n",
        "  dice_weight = 0.3\n",
        "  focal_weight = 0.2\n",
        "  # task weights for mulit-tasking learning\n",
        "  flood_task_weight = 0.5\n",
        "  damage_task_weight = 0.5\n",
        "\n",
        "  # Paths (update these based on your setup will need to edit)\n",
        "  Data_Root = '/content'\n",
        "  Checkpoint_Dir = '/content/checkpoints'\n",
        "  Results_Dir = '/content/results'\n",
        "\n",
        "  # Create directories\n",
        "  os.makedirs(Checkpoint_Dir, exist_ok=True)\n",
        "  os.makedirs(Results_Dir, exist_ok=True)"
      ]
    },
    {
      "cell_type": "code",
      "execution_count": 6,
      "metadata": {
        "id": "IVeWK3MCoo1X"
      },
      "outputs": [],
      "source": [
        "#Pulling FloodNet dataset from GitHub DropBox due to file size at ~12GB"
      ]
    },
    {
      "cell_type": "code",
      "execution_count": 7,
      "metadata": {
        "colab": {
          "base_uri": "https://localhost:8080/"
        },
        "id": "-aG659vxGq-t",
        "outputId": "17d70ec6-9d55-4443-fc9c-e2b534163892"
      },
      "outputs": [
        {
          "output_type": "stream",
          "name": "stdout",
          "text": [
            "--2025-08-28 21:27:35--  https://www.dropbox.com/scl/fo/k33qdif15ns2qv2jdxvhx/ANGaa8iPRhvlrvcKXjnmNRc?rlkey=ao2493wzl1cltonowjdbrnp7f&e=3&st=6lg4ncwc&dl=1\n",
            "Resolving www.dropbox.com (www.dropbox.com)... 162.125.81.18, 2620:100:6031:18::a27d:5112\n",
            "Connecting to www.dropbox.com (www.dropbox.com)|162.125.81.18|:443... connected.\n",
            "HTTP request sent, awaiting response... 302 Found\n",
            "Location: https://ucc2bbaa789320ecb81ee9edb3bc.dl.dropboxusercontent.com/zip_download_get/CTu2DTbHvZ0uqgScS_vKJmQidqFIp2UnnXbCeNTRg-8JsOdwc3LCRshSTZfRuvKSOouA0bVK4NAvWKqFs_SPXBdYG6MOamVzQhliExEV6BWP4A# [following]\n",
            "--2025-08-28 21:27:41--  https://ucc2bbaa789320ecb81ee9edb3bc.dl.dropboxusercontent.com/zip_download_get/CTu2DTbHvZ0uqgScS_vKJmQidqFIp2UnnXbCeNTRg-8JsOdwc3LCRshSTZfRuvKSOouA0bVK4NAvWKqFs_SPXBdYG6MOamVzQhliExEV6BWP4A\n",
            "Resolving ucc2bbaa789320ecb81ee9edb3bc.dl.dropboxusercontent.com (ucc2bbaa789320ecb81ee9edb3bc.dl.dropboxusercontent.com)... 162.125.81.15, 2620:100:6030:15::a27d:500f\n",
            "Connecting to ucc2bbaa789320ecb81ee9edb3bc.dl.dropboxusercontent.com (ucc2bbaa789320ecb81ee9edb3bc.dl.dropboxusercontent.com)|162.125.81.15|:443... connected.\n",
            "HTTP request sent, awaiting response... 200 OK\n",
            "Length: 13057835433 (12G) [application/zip]\n",
            "Saving to: ‘ANGaa8iPRhvlrvcKXjnmNRc?rlkey=ao2493wzl1cltonowjdbrnp7f&e=3&st=6lg4ncwc&dl=1’\n",
            "\n",
            "ANGaa8iPRhvlrvcKXjn 100%[===================>]  12.16G  4.29MB/s    in 16m 37s \n",
            "\n",
            "2025-08-28 21:44:21 (12.5 MB/s) - ‘ANGaa8iPRhvlrvcKXjnmNRc?rlkey=ao2493wzl1cltonowjdbrnp7f&e=3&st=6lg4ncwc&dl=1’ saved [13057835433/13057835433]\n",
            "\n"
          ]
        }
      ],
      "source": [
        "!wget \"https://www.dropbox.com/scl/fo/k33qdif15ns2qv2jdxvhx/ANGaa8iPRhvlrvcKXjnmNRc?rlkey=ao2493wzl1cltonowjdbrnp7f&e=3&st=6lg4ncwc&dl=1\""
      ]
    },
    {
      "cell_type": "code",
      "execution_count": 8,
      "metadata": {
        "colab": {
          "base_uri": "https://localhost:8080/"
        },
        "id": "WWkKOToKG0fn",
        "outputId": "251c3d23-19e2-4a65-ee2a-28240ed6aa81"
      },
      "outputs": [
        {
          "output_type": "stream",
          "name": "stdout",
          "text": [
            "Extraction complete.\n",
            "['FloodNet-Supervised_v1.0', 'ColorMasks-FloodNetv1.0']\n"
          ]
        }
      ],
      "source": [
        "import zipfile\n",
        "\n",
        "zip_path = '/content/ANGaa8iPRhvlrvcKXjnmNRc?rlkey=ao2493wzl1cltonowjdbrnp7f&e=3&st=6lg4ncwc&dl=1'\n",
        "extract_path = '/content/FloodNet'\n",
        "\n",
        "with zipfile.ZipFile(zip_path, 'r') as zip_ref:\n",
        "  zip_ref.extractall(extract_path)\n",
        "\n",
        "  print(\"Extraction complete.\")\n",
        "  print(os.listdir('/content/FloodNet'))"
      ]
    },
    {
      "cell_type": "code",
      "execution_count": 9,
      "metadata": {
        "id": "G09dsszhHBUZ"
      },
      "outputs": [],
      "source": [
        "#Defining dataset pathways\n",
        "FloodNet_train_img_dir = '/content/FloodNet/FloodNet-Supervised_v1.0/train/train-org-img'\n",
        "FloodNet_train_mask_dir = '/content/FloodNet/FloodNet-Supervised_v1.0/train/train-label-img'\n",
        "\n",
        "\n",
        "FloodNet_val_img_dir ='/content/FloodNet/FloodNet-Supervised_v1.0/val/val-org-img'\n",
        "FloodNet_val_mask_dir = '/content/FloodNet/FloodNet-Supervised_v1.0/val/val-label-img'\n",
        "\n",
        "FloodNet_test_img_dir = '/content/FloodNet/FloodNet-Supervised_v1.0/test/test-org-img'\n",
        "FloodNet_test_mask_dir = '/content/FloodNet/FloodNet-Supervised_v1.0/test/test-label-img'"
      ]
    },
    {
      "cell_type": "code",
      "execution_count": 10,
      "metadata": {
        "colab": {
          "base_uri": "https://localhost:8080/"
        },
        "id": "55E7uZP5Ikmy",
        "outputId": "7ae8e90d-3a5a-43d9-d95e-47a514b003ee"
      },
      "outputs": [
        {
          "output_type": "stream",
          "name": "stdout",
          "text": [
            "Zip File Deleted\n"
          ]
        }
      ],
      "source": [
        "os.remove(\"/content/ANGaa8iPRhvlrvcKXjnmNRc?rlkey=ao2493wzl1cltonowjdbrnp7f&e=3&st=6lg4ncwc&dl=1\")\n",
        "print(\"Zip File Deleted\")"
      ]
    },
    {
      "cell_type": "code",
      "execution_count": 11,
      "metadata": {
        "colab": {
          "base_uri": "https://localhost:8080/"
        },
        "id": "WLW2rNaPIpWN",
        "outputId": "8efdbcb7-0be3-4ad3-b446-e08907a838cd"
      },
      "outputs": [
        {
          "output_type": "stream",
          "name": "stdout",
          "text": [
            "Requirement already satisfied: gdown in /usr/local/lib/python3.12/dist-packages (5.2.0)\n",
            "Requirement already satisfied: beautifulsoup4 in /usr/local/lib/python3.12/dist-packages (from gdown) (4.13.5)\n",
            "Requirement already satisfied: filelock in /usr/local/lib/python3.12/dist-packages (from gdown) (3.19.1)\n",
            "Requirement already satisfied: requests[socks] in /usr/local/lib/python3.12/dist-packages (from gdown) (2.32.4)\n",
            "Requirement already satisfied: tqdm in /usr/local/lib/python3.12/dist-packages (from gdown) (4.67.1)\n",
            "Requirement already satisfied: soupsieve>1.2 in /usr/local/lib/python3.12/dist-packages (from beautifulsoup4->gdown) (2.7)\n",
            "Requirement already satisfied: typing-extensions>=4.0.0 in /usr/local/lib/python3.12/dist-packages (from beautifulsoup4->gdown) (4.15.0)\n",
            "Requirement already satisfied: charset_normalizer<4,>=2 in /usr/local/lib/python3.12/dist-packages (from requests[socks]->gdown) (3.4.3)\n",
            "Requirement already satisfied: idna<4,>=2.5 in /usr/local/lib/python3.12/dist-packages (from requests[socks]->gdown) (3.10)\n",
            "Requirement already satisfied: urllib3<3,>=1.21.1 in /usr/local/lib/python3.12/dist-packages (from requests[socks]->gdown) (2.5.0)\n",
            "Requirement already satisfied: certifi>=2017.4.17 in /usr/local/lib/python3.12/dist-packages (from requests[socks]->gdown) (2025.8.3)\n",
            "Requirement already satisfied: PySocks!=1.5.7,>=1.5.6 in /usr/local/lib/python3.12/dist-packages (from requests[socks]->gdown) (1.7.1)\n"
          ]
        }
      ],
      "source": [
        "!pip install gdown\n",
        "import gdown"
      ]
    },
    {
      "cell_type": "code",
      "execution_count": 12,
      "metadata": {
        "id": "UX04bC9zIszd"
      },
      "outputs": [],
      "source": [
        "#!gdown --fuzzy \"https://drive.google.com/file/d/1iRkEX9LQ8Hi-38QMyaReFJ8wXDDyYJAg/view?usp=sharing\" -O RescueNet.zip"
      ]
    },
    {
      "cell_type": "code",
      "execution_count": 13,
      "metadata": {
        "colab": {
          "base_uri": "https://localhost:8080/"
        },
        "id": "atY77jh0DhDA",
        "outputId": "eda5b384-1e51-4ff6-963a-c685a3f3e7e7"
      },
      "outputs": [
        {
          "output_type": "stream",
          "name": "stdout",
          "text": [
            "Extraction complete.\n"
          ]
        }
      ],
      "source": [
        "import zipfile\n",
        "\n",
        "with zipfile.ZipFile(\"/content/drive/MyDrive/G.E.M.S./RescueNet.zip\", \"r\") as zip_ref:\n",
        "  zip_ref.extractall(\"/content/RescueNet\")\n",
        "\n",
        "print(\"Extraction complete.\")"
      ]
    },
    {
      "cell_type": "code",
      "execution_count": 14,
      "metadata": {
        "colab": {
          "base_uri": "https://localhost:8080/"
        },
        "id": "tMT0inR5dj39",
        "outputId": "29da628c-6c95-4069-a425-05d230cfcdaa"
      },
      "outputs": [
        {
          "output_type": "stream",
          "name": "stdout",
          "text": [
            "['.config', 'results', 'checkpoints', 'drive', 'FloodNet', 'RescueNet', 'sample_data']\n",
            "['test', 'RescueNet-DATASET-VERSION-NOTE.txt', 'train', 'val']\n"
          ]
        }
      ],
      "source": [
        "print(os.listdir('/content'))\n",
        "print(os.listdir('/content/RescueNet'))"
      ]
    },
    {
      "cell_type": "code",
      "execution_count": 15,
      "metadata": {
        "id": "yTDX_9BiD8hw"
      },
      "outputs": [],
      "source": [
        "RescueNet_train_img_dir = '/content/RescueNet/train/train-org-img'\n",
        "RescueNet_train_mask_dir = '/content/RescueNet/train/train-label-img'\n",
        "\n",
        "RescueNet_val_img_dir = '/content/RescueNet/val/val-org-img'\n",
        "RescueNet_val_mask_dir = '/content/RescueNet/val/val-label-img'\n",
        "\n",
        "RescueNet_test_img_dir = '/content/RescueNet/test/test-org-img'\n",
        "RescueNet_test_mask_dir = '/content/RescueNet/test/test-label-img'"
      ]
    },
    {
      "cell_type": "code",
      "execution_count": 16,
      "metadata": {
        "id": "MXb9EZZCEbE7"
      },
      "outputs": [],
      "source": [
        "#os.remove(\"/content/RescueNet.zip\")\n",
        "#print(\"Files Deleted\")"
      ]
    },
    {
      "cell_type": "markdown",
      "metadata": {
        "id": "cmUApdU4TuzB"
      },
      "source": [
        "## Loading Datasets"
      ]
    },
    {
      "cell_type": "code",
      "execution_count": 17,
      "metadata": {
        "id": "LvMldvFTE2SU"
      },
      "outputs": [],
      "source": [
        "class FloodNetDataset(Dataset):\n",
        "    \"\"\"\n",
        "    Dataset class for FloodNet flood detection data\n",
        "\n",
        "    Expected file structure:\n",
        "    - Images: original disaster images\n",
        "    - Masks: binary masks (0: non-flooded, 1: flooded)\n",
        "    \"\"\"\n",
        "    def __init__(self, img_dir, mask_dir, transform=None):\n",
        "        \"\"\"\n",
        "        Args:\n",
        "            img_dir: Directory containing input images\n",
        "            mask_dir: Directory containing segmentation masks\n",
        "            transform: Albumentations transform pipeline\n",
        "        \"\"\"\n",
        "        self.img_dir = img_dir\n",
        "        self.mask_dir = mask_dir\n",
        "        self.img_names = sorted(os.listdir(img_dir))\n",
        "        self.transform = transform\n",
        "\n",
        "    def __len__(self):\n",
        "        return len(self.img_names)\n",
        "\n",
        "    def __getitem__(self, idx):\n",
        "        \"\"\"Load image and mask pair with error handling\"\"\"\n",
        "        img_name = self.img_names[idx]\n",
        "\n",
        "        # Extract base filename without extension\n",
        "        base_name = img_name.rsplit(\".\", 1)[0]\n",
        "\n",
        "        # Find matching mask (FloodNet naming pattern)\n",
        "        pattern = os.path.join(self.mask_dir, base_name + \"_*.png\")\n",
        "        matching_masks = glob.glob(pattern)\n",
        "\n",
        "        if len(matching_masks) == 0:\n",
        "            raise FileNotFoundError(f\"No matching mask for: {img_name}\")\n",
        "\n",
        "        mask_path = matching_masks[0]\n",
        "        img_path = os.path.join(self.img_dir, img_name)\n",
        "\n",
        "        # Load image (OpenCV loads as BGR, convert to RGB)\n",
        "        image = cv2.imread(img_path)\n",
        "        if image is None:\n",
        "            raise FileNotFoundError(f\"Failed to load image: {img_path}\")\n",
        "        image = cv2.cvtColor(image, cv2.COLOR_BGR2RGB)\n",
        "\n",
        "        # Load mask as grayscale\n",
        "        mask = cv2.imread(mask_path, cv2.IMREAD_GRAYSCALE)\n",
        "        if mask is None:\n",
        "            raise FileNotFoundError(f\"Failed to load mask: {mask_path}\")\n",
        "\n",
        "        # Ensure binary mask (0 or 1)\n",
        "        mask = (mask > 0).astype(np.uint8)\n",
        "\n",
        "        # Apply augmentations\n",
        "        if self.transform:\n",
        "            augmented = self.transform(image=image, mask=mask)\n",
        "            image = augmented[\"image\"]\n",
        "            mask = augmented[\"mask\"]\n",
        "\n",
        "        return image, mask.long()"
      ]
    },
    {
      "cell_type": "code",
      "execution_count": 18,
      "metadata": {
        "id": "hwZHhRF4PKVk"
      },
      "outputs": [],
      "source": [
        "class RescueNetDataset(Dataset):\n",
        "    \"\"\"\n",
        "    Dataset class for RescueNet damage assessment data\n",
        "\n",
        "    Expected file structure:\n",
        "    - Images: original disaster images\n",
        "    - Masks: multi-class masks (0-3 for damage levels)\n",
        "    \"\"\"\n",
        "    def __init__(self, img_dir, mask_dir, transform=None):\n",
        "        \"\"\"\n",
        "        Args:\n",
        "            img_dir: Directory containing input images\n",
        "            mask_dir: Directory containing segmentation masks\n",
        "            transform: Albumentations transform pipeline\n",
        "        \"\"\"\n",
        "        self.img_dir = img_dir\n",
        "        self.mask_dir = mask_dir\n",
        "        self.img_names = sorted(os.listdir(img_dir))\n",
        "        self.transform = transform\n",
        "\n",
        "    def __len__(self):\n",
        "        return len(self.img_names)\n",
        "\n",
        "    def __getitem__(self, idx):\n",
        "        \"\"\"Load image and mask pair with error handling\"\"\"\n",
        "        img_name = self.img_names[idx]\n",
        "\n",
        "        # Extract base filename without extension\n",
        "        base_name = img_name.rsplit(\".\", 1)[0]\n",
        "\n",
        "        # Find matching mask (RescueNet naming pattern)\n",
        "        pattern = os.path.join(self.mask_dir, base_name + \"_lab*.png\")\n",
        "        matching_masks = glob.glob(pattern)\n",
        "\n",
        "        if len(matching_masks) == 0:\n",
        "            raise FileNotFoundError(f\"No matching mask for: {img_name}\")\n",
        "\n",
        "        mask_path = matching_masks[0]\n",
        "        img_path = os.path.join(self.img_dir, img_name)\n",
        "\n",
        "        # Load image\n",
        "        image = cv2.imread(img_path)\n",
        "        if image is None:\n",
        "            raise FileNotFoundError(f\"Failed to load image: {img_path}\")\n",
        "        image = cv2.cvtColor(image, cv2.COLOR_BGR2RGB)\n",
        "\n",
        "        # Load mask\n",
        "        mask = cv2.imread(mask_path, cv2.IMREAD_GRAYSCALE)\n",
        "        if mask is None:\n",
        "            raise FileNotFoundError(f\"Failed to load mask: {mask_path}\")\n",
        "\n",
        "        # Ensure mask values are in valid range (0-3)\n",
        "        mask = np.clip(mask, 0, 3).astype(np.uint8)\n",
        "\n",
        "        # Apply augmentations\n",
        "        if self.transform:\n",
        "            augmented = self.transform(image=image, mask=mask)\n",
        "            image = augmented[\"image\"]\n",
        "            mask = augmented[\"mask\"]\n",
        "\n",
        "        return image, mask.long()"
      ]
    },
    {
      "cell_type": "markdown",
      "metadata": {
        "id": "rKWSLSXXSpYf"
      },
      "source": [
        "## Data Augmentation Pipeline"
      ]
    },
    {
      "cell_type": "code",
      "execution_count": 19,
      "metadata": {
        "id": "Us6gA-NJSt-x"
      },
      "outputs": [],
      "source": [
        "def get_training_augmentation():\n",
        "    \"\"\"\n",
        "    Training augmentation pipeline with various geometric and color transforms\n",
        "    \"\"\"\n",
        "    return A.Compose([\n",
        "        # Resize to target dimensions\n",
        "        A.Resize(config.img_height, config.img_width),\n",
        "\n",
        "        # Geometric transforms\n",
        "        A.HorizontalFlip(p=0.5),\n",
        "        A.VerticalFlip(p=0.1),  # Less common but useful for aerial images\n",
        "        A.RandomRotate90(p=0.5),\n",
        "\n",
        "        # Slight rotations and shifts\n",
        "        A.ShiftScaleRotate(\n",
        "            shift_limit=0.1,\n",
        "            scale_limit=0.1,\n",
        "            rotate_limit=15,\n",
        "            border_mode=cv2.BORDER_REFLECT,\n",
        "            p=0.5\n",
        "        ),\n",
        "\n",
        "        # Color augmentations\n",
        "        A.RandomBrightnessContrast(\n",
        "            brightness_limit=0.2,\n",
        "            contrast_limit=0.2,\n",
        "            p=0.5\n",
        "        ),\n",
        "        A.ColorJitter(\n",
        "            brightness=0.1,\n",
        "            contrast=0.1,\n",
        "            saturation=0.1,\n",
        "            hue=0.05,\n",
        "            p=0.3\n",
        "        ),\n",
        "\n",
        "        # Weather effects (useful for disaster scenarios)\n",
        "        A.RandomRain(p=0.1),\n",
        "        A.RandomFog(p=0.1),\n",
        "\n",
        "        # Noise and blur\n",
        "        A.GaussNoise(var_limit=(10.0, 50.0), p=0.2),\n",
        "        A.GaussianBlur(blur_limit=(3, 7), p=0.2),\n",
        "\n",
        "        # Normalize with ImageNet statistics\n",
        "        A.Normalize(\n",
        "            mean=(0.485, 0.456, 0.406),\n",
        "            std=(0.229, 0.224, 0.225)\n",
        "        ),\n",
        "\n",
        "        # Convert to PyTorch tensor\n",
        "        ToTensorV2()\n",
        "    ])"
      ]
    },
    {
      "cell_type": "code",
      "execution_count": 20,
      "metadata": {
        "id": "AetmH_CoTA10"
      },
      "outputs": [],
      "source": [
        "def get_validation_augmentation():\n",
        "    \"\"\"\n",
        "    Validation augmentation pipeline (only essential transforms)\n",
        "    \"\"\"\n",
        "    return A.Compose([\n",
        "        A.Resize(config.img_height, config.img_width),\n",
        "        A.Normalize(\n",
        "            mean=(0.485, 0.456, 0.406),\n",
        "            std=(0.229, 0.224, 0.225)\n",
        "        ),\n",
        "        ToTensorV2()\n",
        "    ])"
      ]
    },
    {
      "cell_type": "code",
      "execution_count": 21,
      "metadata": {
        "id": "wTOtyNZPTC1w"
      },
      "outputs": [],
      "source": [
        "def get_test_augmentation():\n",
        "    \"\"\"\n",
        "    Test augmentation pipeline (same as validation)\n",
        "    \"\"\"\n",
        "    return get_validation_augmentation()"
      ]
    },
    {
      "cell_type": "markdown",
      "metadata": {
        "id": "Me6035kVTH9I"
      },
      "source": [
        "## Attention models"
      ]
    },
    {
      "cell_type": "code",
      "execution_count": 22,
      "metadata": {
        "id": "LS4o6fvJTHjX"
      },
      "outputs": [],
      "source": [
        "class ChannelAttention(nn.Module):\n",
        "    \"\"\"\n",
        "    Channel attention module to focus on important feature channels\n",
        "    Squeeze-and-Excitation style attention mechanism\n",
        "    \"\"\"\n",
        "    def __init__(self, channels, reduction=16):\n",
        "        super().__init__()\n",
        "        self.avg_pool = nn.AdaptiveAvgPool2d(1)\n",
        "        self.max_pool = nn.AdaptiveMaxPool2d(1)\n",
        "\n",
        "        # Shared MLP\n",
        "        self.fc = nn.Sequential(\n",
        "            nn.Linear(channels, channels // reduction, bias=False),\n",
        "            nn.ReLU(inplace=True),\n",
        "            nn.Linear(channels // reduction, channels, bias=False),\n",
        "            nn.Sigmoid()\n",
        "        )\n",
        "\n",
        "    def forward(self, x):\n",
        "        b, c, _, _ = x.size()\n",
        "\n",
        "        # Average pooling path\n",
        "        avg_out = self.fc(self.avg_pool(x).view(b, c))\n",
        "\n",
        "        # Max pooling path\n",
        "        max_out = self.fc(self.max_pool(x).view(b, c))\n",
        "\n",
        "        # Combine and apply attention\n",
        "        attention = avg_out + max_out\n",
        "        return x * attention.view(b, c, 1, 1)"
      ]
    },
    {
      "cell_type": "code",
      "execution_count": 23,
      "metadata": {
        "id": "83_aRdS6TRdC"
      },
      "outputs": [],
      "source": [
        "class SpatialAttention(nn.Module):\n",
        "    \"\"\"\n",
        "    Spatial attention module to focus on important spatial regions\n",
        "    \"\"\"\n",
        "    def __init__(self, kernel_size=7):\n",
        "        super().__init__()\n",
        "        padding = kernel_size // 2\n",
        "        self.conv = nn.Conv2d(2, 1, kernel_size, padding=padding, bias=False)\n",
        "        self.sigmoid = nn.Sigmoid()\n",
        "\n",
        "    def forward(self, x):\n",
        "        # Channel-wise average and max\n",
        "        avg_out = torch.mean(x, dim=1, keepdim=True)\n",
        "        max_out, _ = torch.max(x, dim=1, keepdim=True)\n",
        "\n",
        "        # Concatenate and convolve\n",
        "        x_cat = torch.cat([avg_out, max_out], dim=1)\n",
        "        attention = self.sigmoid(self.conv(x_cat))\n",
        "\n",
        "        return x * attention"
      ]
    },
    {
      "cell_type": "markdown",
      "metadata": {
        "id": "kDnVRkb0TYu4"
      },
      "source": [
        "# Multi-Task Model"
      ]
    },
    {
      "cell_type": "code",
      "execution_count": 24,
      "metadata": {
        "id": "K-JJXAoyTYQC"
      },
      "outputs": [],
      "source": [
        "class EnhancedDisasterModel(nn.Module):\n",
        "    \"\"\"\n",
        "    Enhanced multi-task segmentation model for disaster assessment\n",
        "\n",
        "    Features:\n",
        "    - Shared backbone for feature extraction\n",
        "    - Task-specific heads with attention mechanisms\n",
        "    - Feature fusion for cross-task learning\n",
        "    - Deep supervision options\n",
        "    \"\"\"\n",
        "    def __init__(self, num_classes_flood=2, num_classes_damage=4, backbone='resnet101'):\n",
        "        super().__init__()\n",
        "\n",
        "        # Initialize backbone based on configuration\n",
        "        if backbone == 'resnet101':\n",
        "            base_model = deeplabv3_resnet101(pretrained=True)\n",
        "            print(\"Using ResNet101 backbone\")\n",
        "        else:\n",
        "            base_model = deeplabv3_resnet50(pretrained=True)\n",
        "            print(\"Using ResNet50 backbone\")\n",
        "\n",
        "        # Extract backbone and ASPP module\n",
        "        self.backbone = base_model.backbone\n",
        "        self.aspp = base_model.classifier[0]\n",
        "\n",
        "        # Attention mechanisms for feature refinement\n",
        "        self.channel_attention = ChannelAttention(256)\n",
        "        self.spatial_attention = SpatialAttention()\n",
        "\n",
        "        # Task-specific feature extraction branches\n",
        "        # Flood detection branch\n",
        "        self.flood_branch = nn.Sequential(\n",
        "            nn.Conv2d(256, 512, 3, padding=1, bias=False),\n",
        "            nn.BatchNorm2d(512),\n",
        "            nn.ReLU(inplace=True),\n",
        "            nn.Dropout2d(0.3),\n",
        "\n",
        "            nn.Conv2d(512, 256, 3, padding=1, bias=False),\n",
        "            nn.BatchNorm2d(256),\n",
        "            nn.ReLU(inplace=True),\n",
        "            nn.Dropout2d(0.2),\n",
        "\n",
        "            nn.Conv2d(256, 128, 3, padding=1, bias=False),\n",
        "            nn.BatchNorm2d(128),\n",
        "            nn.ReLU(inplace=True)\n",
        "        )\n",
        "\n",
        "        # Damage assessment branch\n",
        "        self.damage_branch = nn.Sequential(\n",
        "            nn.Conv2d(256, 512, 3, padding=1, bias=False),\n",
        "            nn.BatchNorm2d(512),\n",
        "            nn.ReLU(inplace=True),\n",
        "            nn.Dropout2d(0.3),\n",
        "\n",
        "            nn.Conv2d(512, 256, 3, padding=1, bias=False),\n",
        "            nn.BatchNorm2d(256),\n",
        "            nn.ReLU(inplace=True),\n",
        "            nn.Dropout2d(0.2),\n",
        "\n",
        "            nn.Conv2d(256, 128, 3, padding=1, bias=False),\n",
        "            nn.BatchNorm2d(128),\n",
        "            nn.ReLU(inplace=True)\n",
        "        )\n",
        "\n",
        "        # Classification heads\n",
        "        self.flood_classifier = nn.Conv2d(128, num_classes_flood, 1)\n",
        "        self.damage_classifier = nn.Conv2d(128, num_classes_damage, 1)\n",
        "\n",
        "        # Optional: Cross-task feature fusion\n",
        "        self.enable_fusion = True\n",
        "        if self.enable_fusion:\n",
        "            self.fusion_conv = nn.Sequential(\n",
        "                nn.Conv2d(256, 128, 1, bias=False),\n",
        "                nn.BatchNorm2d(128),\n",
        "                nn.ReLU(inplace=True),\n",
        "                nn.Conv2d(128, 256, 1, bias=False),\n",
        "                nn.BatchNorm2d(256),\n",
        "                nn.Sigmoid()\n",
        "            )\n",
        "\n",
        "    def forward(self, x, return_features=False):\n",
        "        \"\"\"\n",
        "        Forward pass through the network\n",
        "\n",
        "        Args:\n",
        "            x: Input tensor [B, 3, H, W]\n",
        "            return_features: Whether to return intermediate features\n",
        "\n",
        "        Returns:\n",
        "            flood_out: Flood segmentation output [B, 2, H, W]\n",
        "            damage_out: Damage segmentation output [B, 4, H, W]\n",
        "            features (optional): Intermediate features for visualization\n",
        "        \"\"\"\n",
        "        # Store input shape for upsampling\n",
        "        input_shape = x.shape[-2:]\n",
        "\n",
        "        # Extract multi-level features from backbone\n",
        "        features = self.backbone(x)\n",
        "\n",
        "        # Get high-level features\n",
        "        x = features['out']\n",
        "\n",
        "        # Apply ASPP for multi-scale context\n",
        "        x = self.aspp(x)\n",
        "\n",
        "        # Apply attention mechanisms\n",
        "        x = self.channel_attention(x)\n",
        "        x = self.spatial_attention(x)\n",
        "\n",
        "        # Task-specific processing\n",
        "        flood_features = self.flood_branch(x)\n",
        "        damage_features = self.damage_branch(x)\n",
        "\n",
        "        # Optional cross-task feature fusion\n",
        "        if self.enable_fusion:\n",
        "            # Concatenate task features\n",
        "            combined = torch.cat([flood_features, damage_features], dim=1)\n",
        "\n",
        "            # Generate fusion weights\n",
        "            fusion_weights = self.fusion_conv(combined)\n",
        "\n",
        "            # Apply fusion\n",
        "            flood_features = flood_features + fusion_weights[:, :128] * damage_features\n",
        "            damage_features = damage_features + fusion_weights[:, 128:] * flood_features\n",
        "\n",
        "        # Generate predictions\n",
        "        flood_out = self.flood_classifier(flood_features)\n",
        "        damage_out = self.damage_classifier(damage_features)\n",
        "\n",
        "        # Upsample to original resolution\n",
        "        flood_out = F.interpolate(\n",
        "            flood_out, size=input_shape,\n",
        "            mode='bilinear', align_corners=False\n",
        "        )\n",
        "        damage_out = F.interpolate(\n",
        "            damage_out, size=input_shape,\n",
        "            mode='bilinear', align_corners=False\n",
        "        )\n",
        "\n",
        "        if return_features:\n",
        "            return flood_out, damage_out, flood_features, damage_features\n",
        "\n",
        "        return flood_out, damage_out"
      ]
    },
    {
      "cell_type": "markdown",
      "metadata": {
        "id": "x22JpKxYVbSh"
      },
      "source": [
        "## Custom Loss Functions"
      ]
    },
    {
      "cell_type": "code",
      "execution_count": 25,
      "metadata": {
        "id": "MeVFNwxBVfM0"
      },
      "outputs": [],
      "source": [
        "class DiceLoss(nn.Module):\n",
        "    \"\"\"\n",
        "    Dice loss for segmentation tasks\n",
        "    Helps with class imbalance by focusing on overlap\n",
        "    \"\"\"\n",
        "    def __init__(self, smooth=1.0, epsilon=1e-7):\n",
        "        super().__init__()\n",
        "        self.smooth = smooth\n",
        "        self.epsilon = epsilon\n",
        "\n",
        "    def forward(self, pred, target):\n",
        "        \"\"\"\n",
        "        Args:\n",
        "            pred: Model predictions [B, C, H, W]\n",
        "            target: Ground truth [B, H, W]\n",
        "        \"\"\"\n",
        "        # Apply softmax to predictions\n",
        "        pred = F.softmax(pred, dim=1)\n",
        "\n",
        "        # One-hot encode target\n",
        "        num_classes = pred.shape[1]\n",
        "        target_one_hot = F.one_hot(target, num_classes)\n",
        "        target_one_hot = target_one_hot.permute(0, 3, 1, 2).float()\n",
        "\n",
        "        # Calculate intersection and union\n",
        "        intersection = (pred * target_one_hot).sum(dim=(2, 3))\n",
        "        union = pred.sum(dim=(2, 3)) + target_one_hot.sum(dim=(2, 3))\n",
        "\n",
        "        # Dice coefficient\n",
        "        dice = (2.0 * intersection + self.smooth) / (union + self.smooth + self.epsilon)\n",
        "\n",
        "        # Return loss (1 - dice)\n",
        "        return 1.0 - dice.mean()\n",
        "\n",
        "class FocalLoss(nn.Module):\n",
        "    \"\"\"\n",
        "    Focal loss for addressing class imbalance\n",
        "    Focuses learning on hard examples\n",
        "    \"\"\"\n",
        "    def __init__(self, alpha=0.25, gamma=2.0):\n",
        "        super().__init__()\n",
        "        self.alpha = alpha\n",
        "        self.gamma = gamma\n",
        "\n",
        "    def forward(self, pred, target):\n",
        "        \"\"\"\n",
        "        Args:\n",
        "            pred: Model predictions [B, C, H, W]\n",
        "            target: Ground truth [B, H, W]\n",
        "        \"\"\"\n",
        "        # Calculate cross-entropy\n",
        "        ce_loss = F.cross_entropy(pred, target, reduction='none')\n",
        "\n",
        "        # Calculate focal term\n",
        "        pt = torch.exp(-ce_loss)\n",
        "        focal_loss = self.alpha * (1 - pt) ** self.gamma * ce_loss\n",
        "\n",
        "        return focal_loss.mean()\n",
        "\n",
        "class CombinedLoss(nn.Module):\n",
        "    \"\"\"\n",
        "    Combined loss function using multiple loss components\n",
        "    \"\"\"\n",
        "    def __init__(self, ce_weight=0.5, dice_weight=0.3, focal_weight=0.2):\n",
        "        super().__init__()\n",
        "        self.ce_weight = ce_weight\n",
        "        self.dice_weight = dice_weight\n",
        "        self.focal_weight = focal_weight\n",
        "\n",
        "        self.ce_loss = nn.CrossEntropyLoss()\n",
        "        self.dice_loss = DiceLoss()\n",
        "        self.focal_loss = FocalLoss()\n",
        "\n",
        "    def forward(self, pred, target):\n",
        "        ce = self.ce_loss(pred, target)\n",
        "        dice = self.dice_loss(pred, target)\n",
        "        focal = self.focal_loss(pred, target)\n",
        "\n",
        "        total_loss = (\n",
        "            self.ce_weight * ce +\n",
        "            self.dice_weight * dice +\n",
        "            self.focal_weight * focal\n",
        "        )\n",
        "\n",
        "        return total_loss, {'ce': ce, 'dice': dice, 'focal': focal}"
      ]
    },
    {
      "cell_type": "markdown",
      "metadata": {
        "id": "J5TL0-McWGOp"
      },
      "source": [
        "## Evaluation Metrics"
      ]
    },
    {
      "cell_type": "code",
      "execution_count": 26,
      "metadata": {
        "id": "5hgto8UdWLlE"
      },
      "outputs": [],
      "source": [
        "class MetricCalculator:\n",
        "    \"\"\"\n",
        "    Calculate various segmentation metrics\n",
        "    \"\"\"\n",
        "    @staticmethod\n",
        "    def calculate_iou(pred, target, num_classes):\n",
        "        \"\"\"\n",
        "        Calculate Intersection over Union per class\n",
        "        \"\"\"\n",
        "        ious = []\n",
        "        pred = pred.view(-1)\n",
        "        target = target.view(-1)\n",
        "\n",
        "        for cls in range(num_classes):\n",
        "            pred_inds = pred == cls\n",
        "            target_inds = target == cls\n",
        "\n",
        "            intersection = (pred_inds & target_inds).sum().item()\n",
        "            union = (pred_inds | target_inds).sum().item()\n",
        "\n",
        "            if union == 0:\n",
        "                ious.append(float('nan'))\n",
        "            else:\n",
        "                ious.append(intersection / union)\n",
        "\n",
        "        return ious\n",
        "\n",
        "    @staticmethod\n",
        "    def calculate_dice(pred, target, num_classes):\n",
        "        \"\"\"\n",
        "        Calculate Dice coefficient per class\n",
        "        \"\"\"\n",
        "        dices = []\n",
        "        pred = pred.view(-1)\n",
        "        target = target.view(-1)\n",
        "\n",
        "        for cls in range(num_classes):\n",
        "            pred_inds = pred == cls\n",
        "            target_inds = target == cls\n",
        "\n",
        "            intersection = (pred_inds & target_inds).sum().item()\n",
        "            pred_sum = pred_inds.sum().item()\n",
        "            target_sum = target_inds.sum().item()\n",
        "\n",
        "            if pred_sum + target_sum == 0:\n",
        "                dices.append(float('nan'))\n",
        "            else:\n",
        "                dices.append(2 * intersection / (pred_sum + target_sum))\n",
        "\n",
        "        return dices\n",
        "\n",
        "    @staticmethod\n",
        "    def calculate_pixel_accuracy(pred, target):\n",
        "        \"\"\"\n",
        "        Calculate overall pixel accuracy\n",
        "        \"\"\"\n",
        "        correct = (pred == target).sum().item()\n",
        "        total = target.numel()\n",
        "        return correct / total\n"
      ]
    },
    {
      "cell_type": "markdown",
      "metadata": {
        "id": "pNFpPUyRWSbn"
      },
      "source": [
        "## Optimized Trainer"
      ]
    },
    {
      "cell_type": "code",
      "execution_count": 27,
      "metadata": {
        "id": "i98iJ4O1WRe0"
      },
      "outputs": [],
      "source": [
        "class OptimizedTrainer:\n",
        "    def __init__(self, model, config, device='cuda'):\n",
        "        self.model = model\n",
        "        self.config = config\n",
        "        self.device = device\n",
        "\n",
        "        # Mixed precision training\n",
        "        self.scaler = GradScaler()\n",
        "\n",
        "        # Gradient accumulation\n",
        "        self.accumulation_steps = config.accumulation_steps\n",
        "\n",
        "        # Initialize optimizers with different learning rates for different parts\n",
        "        self.optimizer = torch.optim.AdamW([\n",
        "            # Backbone (pretrained - lower learning rate)\n",
        "            {'params': model.backbone.parameters(),\n",
        "             'lr': config.learning_rate * 0.1,\n",
        "             'weight_decay': config.weight_decay},\n",
        "\n",
        "            # ASPP module\n",
        "            {'params': model.aspp.parameters(),\n",
        "             'lr': config.learning_rate * 0.5,\n",
        "             'weight_decay': config.weight_decay},\n",
        "\n",
        "            # Task-specific branches (higher learning rate)\n",
        "            {'params': model.flood_branch.parameters(),\n",
        "             'lr': config.learning_rate,\n",
        "             'weight_decay': config.weight_decay},\n",
        "            {'params': model.damage_branch.parameters(),\n",
        "             'lr': config.learning_rate,\n",
        "             'weight_decay': config.weight_decay},\n",
        "\n",
        "            # Classifiers\n",
        "            {'params': model.flood_classifier.parameters(),\n",
        "             'lr': config.learning_rate,\n",
        "             'weight_decay': config.weight_decay},\n",
        "            {'params': model.damage_classifier.parameters(),\n",
        "             'lr': config.learning_rate,\n",
        "             'weight_decay': config.weight_decay}\n",
        "        ])\n",
        "\n",
        "        # Loss functions\n",
        "        self.flood_loss_fn = CombinedLoss(\n",
        "            config.ce_weight, config.dice_weight, config.focal_weight\n",
        "        )\n",
        "        self.damage_loss_fn = CombinedLoss(\n",
        "            config.ce_weight, config.dice_weight, config.focal_weight\n",
        "        )\n",
        "\n",
        "        # Metrics\n",
        "        self.metric_calculator = MetricCalculator()\n",
        "\n",
        "        # Best model tracking\n",
        "        self.best_flood_iou = 0.0\n",
        "        self.best_damage_iou = 0.0\n",
        "        self.best_combined_score = 0.0\n",
        "\n",
        "        # Initialize logging\n",
        "        self.train_losses = {'flood': [], 'damage': [], 'total': []}\n",
        "        self.val_metrics = {'flood_iou': [], 'damage_iou': []}\n",
        "\n",
        "    def train_epoch(self, flood_loader, damage_loader, epoch):\n",
        "        \"\"\"\n",
        "        Train one epoch with alternating task training\n",
        "        \"\"\"\n",
        "        self.model.train()\n",
        "\n",
        "        # Create data iterators\n",
        "        flood_iter = iter(flood_loader)\n",
        "        damage_iter = iter(damage_loader)\n",
        "\n",
        "        # Determine number of iterations\n",
        "        num_iterations = max(len(flood_loader), len(damage_loader))\n",
        "\n",
        "        # Epoch statistics\n",
        "        flood_losses = []\n",
        "        damage_losses = []\n",
        "\n",
        "        # Progress bar\n",
        "        pbar = tqdm(range(num_iterations), desc=f'Epoch {epoch}/{config.num_epochs}')\n",
        "\n",
        "        for i in pbar:\n",
        "            # Reset gradients at start of accumulation\n",
        "            if i % self.accumulation_steps == 0:\n",
        "                self.optimizer.zero_grad()\n",
        "\n",
        "            # === FLOOD TASK TRAINING ===\n",
        "            try:\n",
        "                flood_batch = next(flood_iter)\n",
        "            except StopIteration:\n",
        "                flood_iter = iter(flood_loader)\n",
        "                flood_batch = next(flood_iter)\n",
        "\n",
        "            flood_loss = self._train_step(flood_batch, 'flood')\n",
        "            flood_losses.append(flood_loss)\n",
        "\n",
        "            # === DAMAGE TASK TRAINING ===\n",
        "            try:\n",
        "                damage_batch = next(damage_iter)\n",
        "            except StopIteration:\n",
        "                damage_iter = iter(damage_loader)\n",
        "                damage_batch = next(damage_iter)\n",
        "\n",
        "            damage_loss = self._train_step(damage_batch, 'damage')\n",
        "            damage_losses.append(damage_loss)\n",
        "\n",
        "            # Update weights after accumulation steps\n",
        "            if (i + 1) % self.accumulation_steps == 0:\n",
        "                # Unscale gradients and clip\n",
        "                self.scaler.unscale_(self.optimizer)\n",
        "                torch.nn.utils.clip_grad_norm_(self.model.parameters(), max_norm=1.0)\n",
        "\n",
        "                # Optimizer step\n",
        "                self.scaler.step(self.optimizer)\n",
        "                self.scaler.update()\n",
        "\n",
        "                # Update scheduler if using one\n",
        "                # self.scheduler.step()\n",
        "\n",
        "            # Update progress bar\n",
        "            if i % 10 == 0:\n",
        "                avg_flood = np.mean(flood_losses[-50:]) if flood_losses else 0\n",
        "                avg_damage = np.mean(damage_losses[-50:]) if damage_losses else 0\n",
        "                pbar.set_postfix({\n",
        "                    'flood_loss': f'{avg_flood:.4f}',\n",
        "                    'damage_loss': f'{avg_damage:.4f}',\n",
        "                    'lr': f'{self.optimizer.param_groups[0][\"lr\"]:.2e}'\n",
        "                })\n",
        "\n",
        "            # Periodic memory cleanup\n",
        "            if i % 100 == 0:\n",
        "                torch.cuda.empty_cache()\n",
        "\n",
        "        # Store epoch statistics\n",
        "        epoch_flood_loss = np.mean(flood_losses)\n",
        "        epoch_damage_loss = np.mean(damage_losses)\n",
        "\n",
        "        self.train_losses['flood'].append(epoch_flood_loss)\n",
        "        self.train_losses['damage'].append(epoch_damage_loss)\n",
        "        self.train_losses['total'].append(epoch_flood_loss + epoch_damage_loss)\n",
        "\n",
        "        return epoch_flood_loss, epoch_damage_loss\n",
        "\n",
        "    def _train_step(self, batch, task):\n",
        "        \"\"\"\n",
        "        Single training step for a specific task\n",
        "        \"\"\"\n",
        "        images, masks = batch\n",
        "        images = images.to(self.device)\n",
        "        masks = masks.to(self.device)\n",
        "\n",
        "        # Mixed precision forward pass\n",
        "        with autocast():\n",
        "            flood_out, damage_out = self.model(images)\n",
        "\n",
        "            # Select appropriate output and loss\n",
        "            if task == 'flood':\n",
        "                output = flood_out\n",
        "                loss, loss_components = self.flood_loss_fn(output, masks)\n",
        "            else:\n",
        "                output = damage_out\n",
        "                loss, loss_components = self.damage_loss_fn(output, masks)\n",
        "\n",
        "            # Scale loss for gradient accumulation\n",
        "            loss = loss / self.accumulation_steps\n",
        "\n",
        "        # Backward pass with mixed precision\n",
        "        self.scaler.scale(loss).backward()\n",
        "\n",
        "        return loss.item() * self.accumulation_steps\n",
        "    def validate(self, loader, task, num_classes):\n",
        "\n",
        "      \"\"\"\n",
        "      Validate model on specific task\n",
        "\n",
        "      Args:\n",
        "        loader: Validation dataloader\n",
        "        task: 'flood' or 'damage'\n",
        "        num_classes: Number of classes for the task\n",
        "\n",
        "      Returns:\n",
        "        avg_loss: Average validation loss\n",
        "        mean_iou: Mean IoU across all classes\n",
        "        class_ious: IoU per class\n",
        "    \"\"\"\n",
        "      self.model.eval()\n",
        "\n",
        "      total_loss = 0\n",
        "      all_ious = []\n",
        "      all_dice = []\n",
        "      all_accuracy = []\n",
        "\n",
        "      # Disable gradient computation for efficiency\n",
        "      with torch.no_grad():\n",
        "          with tqdm(loader, desc=f'Validating {task}') as pbar:\n",
        "              for images, masks in pbar:\n",
        "                  images = images.to(self.device)\n",
        "                  masks = masks.to(self.device)\n",
        "\n",
        "                # Forward pass with mixed precision\n",
        "                  with autocast():\n",
        "                    flood_out, damage_out = self.model(images)\n",
        "\n",
        "                    # Select appropriate output\n",
        "                    if task == 'flood':\n",
        "                        output = flood_out\n",
        "                        loss, _ = self.flood_loss_fn(output, masks)\n",
        "                    else:\n",
        "                        output = damage_out\n",
        "                        loss, _ = self.damage_loss_fn(output, masks)\n",
        "\n",
        "                  total_loss += loss.item()\n",
        "\n",
        "                # Get predictions\n",
        "                  preds = torch.argmax(output, dim=1)\n",
        "\n",
        "                # Calculate metrics for each sample in batch\n",
        "                  for i in range(preds.shape[0]):\n",
        "                    # IoU per class\n",
        "                      ious = self.metric_calculator.calculate_iou(\n",
        "                          preds[i], masks[i], num_classes\n",
        "                      )\n",
        "                      all_ious.append(ious)\n",
        "\n",
        "                      # Dice coefficient\n",
        "                      dice = self.metric_calculator.calculate_dice(\n",
        "                          preds[i], masks[i], num_classes\n",
        "                      )\n",
        "                      all_dice.append(dice)\n",
        "\n",
        "                      # Pixel accuracy\n",
        "                      accuracy = self.metric_calculator.calculate_pixel_accuracy(\n",
        "                          preds[i], masks[i]\n",
        "                      )\n",
        "                      all_accuracy.append(accuracy)\n",
        "\n",
        "                  # Update progress bar\n",
        "                  pbar.set_postfix({'loss': f'{loss.item():.4f}'})\n",
        "\n",
        "      # Calculate average metrics\n",
        "      avg_loss = total_loss / len(loader)\n",
        "\n",
        "      # Calculate per-class and mean IoU\n",
        "      all_ious = np.array(all_ious)\n",
        "      class_ious = np.nanmean(all_ious, axis=0)\n",
        "      mean_iou = np.nanmean(class_ious)\n",
        "\n",
        "      # Calculate mean dice and accuracy\n",
        "      mean_dice = np.nanmean(all_dice)\n",
        "      mean_accuracy = np.mean(all_accuracy)\n",
        "\n",
        "      # Print validation results\n",
        "      print(f\"\\n{task.upper()} Validation Results:\")\n",
        "      print(f\"Average Loss: {avg_loss:.4f}\")\n",
        "      print(f\"Mean IoU: {mean_iou:.4f}\")\n",
        "      print(f\"Mean Dice: {mean_dice:.4f}\")\n",
        "      print(f\"Pixel Accuracy: {mean_accuracy:.4f}\")\n",
        "\n",
        "      # Per-class IoU\n",
        "      for i, iou in enumerate(class_ious):\n",
        "        class_name = self._get_class_name(task, i)\n",
        "        print(f\"  {class_name} IoU: {iou:.4f}\")\n",
        "\n",
        "\n",
        "      return avg_loss, mean_iou, class_ious\n",
        "\n",
        "\n",
        "    def _get_class_name(self, task, class_idx):\n",
        "        \"\"\"Get human-readable class names\"\"\"\n",
        "        if task == 'flood':\n",
        "          return ['Non-Flooded', 'Flooded'][class_idx]\n",
        "        else:\n",
        "          return ['No Damage', 'Minor', 'Major', 'Destroyed'][class_idx]\n",
        "\n",
        "    def test(self, loader, task, num_classes):\n",
        "        \"\"\"\n",
        "        Test model with additional metrics and visualizations\n",
        "        Similar to validate but with more detailed analysis\n",
        "        \"\"\"\n",
        "        return self.validate(loader, task, num_classes)\n",
        "\n",
        "    def save_checkpoint(self, epoch, flood_metrics, damage_metrics, is_best=False):\n",
        "        \"\"\"\n",
        "        Save training checkpoint\n",
        "\n",
        "        Args:\n",
        "            epoch: Current epoch\n",
        "            flood_metrics: Dictionary of flood task metrics\n",
        "            damage_metrics: Dictionary of damage task metrics\n",
        "            is_best: Whether this is the best model so far\n",
        "        \"\"\"\n",
        "        checkpoint = {\n",
        "            'epoch': epoch,\n",
        "            'model_state_dict': self.model.state_dict(),\n",
        "            'optimizer_state_dict': self.optimizer.state_dict(),\n",
        "            'scaler_state_dict': self.scaler.state_dict(),\n",
        "            'train_losses': self.train_losses,\n",
        "            'val_metrics': self.val_metrics,\n",
        "            'flood_metrics': flood_metrics,\n",
        "            'damage_metrics': damage_metrics,\n",
        "            'best_flood_iou': self.best_flood_iou,\n",
        "            'best_damage_iou': self.best_damage_iou,\n",
        "            'config': self.config.__dict__\n",
        "        }\n",
        "\n",
        "        # Save regular checkpoint\n",
        "        checkpoint_path = os.path.join(\n",
        "            self.config.Checkpoint_Dir,\n",
        "            f'checkpoint_epoch_{epoch:03d}.pth'\n",
        "        )\n",
        "        torch.save(checkpoint, checkpoint_path)\n",
        "        print(f\"Saved checkpoint: {checkpoint_path}\")\n",
        "\n",
        "        # Save best model\n",
        "        if is_best:\n",
        "            best_path = os.path.join(\n",
        "                self.config.Checkpoint_Dir,\n",
        "                'best_model.pth'\n",
        "            )\n",
        "            torch.save(checkpoint, best_path)\n",
        "            print(f\"Saved best model: {best_path}\")\n",
        "\n",
        "        # Keep only last 5 checkpoints to save space\n",
        "        self._cleanup_old_checkpoints(keep_last=5)\n",
        "\n",
        "    def load_checkpoint(self, checkpoint_path):\n",
        "        \"\"\"\n",
        "        Load checkpoint for resuming training or inference\n",
        "\n",
        "        Args:\n",
        "            checkpoint_path: Path to checkpoint file\n",
        "\n",
        "        Returns:\n",
        "            epoch: Epoch number when checkpoint was saved\n",
        "        \"\"\"\n",
        "        print(f\"Loading checkpoint from {checkpoint_path}\")\n",
        "\n",
        "        checkpoint = torch.load(checkpoint_path, map_location=self.device)\n",
        "\n",
        "        self.model.load_state_dict(checkpoint['model_state_dict'])\n",
        "        self.optimizer.load_state_dict(checkpoint['optimizer_state_dict'])\n",
        "        self.scaler.load_state_dict(checkpoint['scaler_state_dict'])\n",
        "\n",
        "        self.train_losses = checkpoint.get('train_losses', {'flood': [], 'damage': [], 'total': []})\n",
        "        self.val_metrics = checkpoint.get('val_metrics', {'flood_iou': [], 'damage_iou': []})\n",
        "        self.best_flood_iou = checkpoint.get('best_flood_iou', 0.0)\n",
        "        self.best_damage_iou = checkpoint.get('best_damage_iou', 0.0)\n",
        "\n",
        "        print(f\"Resumed from epoch {checkpoint['epoch']}\")\n",
        "        print(f\"Best Flood IoU: {self.best_flood_iou:.4f}\")\n",
        "        print(f\"Best Damage IoU: {self.best_damage_iou:.4f}\")\n",
        "\n",
        "        return checkpoint['epoch']\n",
        "\n",
        "    def _cleanup_old_checkpoints(self, keep_last=5):\n",
        "        \"\"\"Remove old checkpoints to save disk space\"\"\"\n",
        "        checkpoint_files = sorted([\n",
        "            f for f in os.listdir(self.config.Checkpoint_Dir)\n",
        "            if f.startswith('checkpoint_epoch_') and f.endswith('.pth')\n",
        "        ])\n",
        "\n",
        "        if len(checkpoint_files) > keep_last:\n",
        "            for f in checkpoint_files[:-keep_last]:\n",
        "                os.remove(os.path.join(self.config.Checkpoint_Dir, f))\n",
        "\n",
        "    def plot_training_history(self):\n",
        "        \"\"\"Generate training history plots\"\"\"\n",
        "        fig, axes = plt.subplots(2, 2, figsize=(15, 12))\n",
        "\n",
        "        # Loss plot\n",
        "        ax = axes[0, 0]\n",
        "        epochs = range(1, len(self.train_losses['total']) + 1)\n",
        "        ax.plot(epochs, self.train_losses['flood'], 'b-', label='Flood Loss')\n",
        "        ax.plot(epochs, self.train_losses['damage'], 'r-', label='Damage Loss')\n",
        "        ax.plot(epochs, self.train_losses['total'], 'g--', label='Total Loss')\n",
        "        ax.set_xlabel('Epoch')\n",
        "        ax.set_ylabel('Loss')\n",
        "        ax.set_title('Training Loss History')\n",
        "        ax.legend()\n",
        "        ax.grid(True)\n",
        "\n",
        "        # IoU plot\n",
        "        ax = axes[0, 1]\n",
        "        if self.val_metrics['flood_iou']:\n",
        "            epochs_val = range(1, len(self.val_metrics['flood_iou']) + 1)\n",
        "            ax.plot(epochs_val, self.val_metrics['flood_iou'], 'b-o', label='Flood IoU')\n",
        "            ax.plot(epochs_val, self.val_metrics['damage_iou'], 'r-o', label='Damage IoU')\n",
        "            ax.set_xlabel('Epoch')\n",
        "            ax.set_ylabel('IoU')\n",
        "            ax.set_title('Validation IoU History')\n",
        "            ax.legend()\n",
        "            ax.grid(True)\n",
        "\n",
        "        # Learning rate plot\n",
        "        ax = axes[1, 0]\n",
        "        lrs = [group['lr'] for group in self.optimizer.param_groups]\n",
        "        ax.plot([lrs[0]] * len(epochs), 'b-', label='Backbone LR')\n",
        "        ax.plot([lrs[-1]] * len(epochs), 'r-', label='Head LR')\n",
        "        ax.set_xlabel('Epoch')\n",
        "        ax.set_ylabel('Learning Rate')\n",
        "        ax.set_title('Learning Rate Schedule')\n",
        "        ax.legend()\n",
        "        ax.set_yscale('log')\n",
        "        ax.grid(True)\n",
        "\n",
        "        # Summary text\n",
        "        ax = axes[1, 1]\n",
        "        ax.axis('off')\n",
        "        summary_text = f\"\"\"\n",
        "        Training Summary:\n",
        "\n",
        "        Total Epochs: {len(self.train_losses['total'])}\n",
        "        Best Flood IoU: {self.best_flood_iou:.4f}\n",
        "        Best Damage IoU: {self.best_damage_iou:.4f}\n",
        "\n",
        "        Final Training Loss:\n",
        "        - Flood: {self.train_losses['flood'][-1]:.4f}\n",
        "        - Damage: {self.train_losses['damage'][-1]:.4f}\n",
        "\n",
        "        Final Validation IoU:\n",
        "        - Flood: {self.val_metrics['flood_iou'][-1]:.4f} if self.val_metrics['flood_iou'] else 'N/A'\n",
        "        - Damage: {self.val_metrics['damage_iou'][-1]:.4f} if self.val_metrics['damage_iou'] else 'N/A'\n",
        "        \"\"\"\n",
        "        ax.text(0.1, 0.5, summary_text, fontsize=12,\n",
        "              verticalalignment='center', fontfamily='monospace')\n",
        "\n",
        "        plt.tight_layout()\n",
        "\n",
        "        # Save plot\n",
        "        plot_path = os.path.join(self.config.Results_Dir, 'training_history.png')\n",
        "        plt.savefig(plot_path, dpi=150, bbox_inches='tight')\n",
        "        plt.close()\n",
        "\n",
        "        print(f\"Training history plot saved to {plot_path}\")\n",
        "\n"
      ]
    },
    {
      "cell_type": "markdown",
      "metadata": {
        "id": "XIn9Yb5zoET2"
      },
      "source": [
        "## Main Training Loop"
      ]
    },
    {
      "cell_type": "code",
      "execution_count": 28,
      "metadata": {
        "id": "FWiSNbJ9oCeW"
      },
      "outputs": [],
      "source": [
        "def train_complete_model(config):\n",
        "    \"\"\"\n",
        "    Complete training pipeline\n",
        "    \"\"\"\n",
        "    # Set device\n",
        "    device = torch.device('cuda' if torch.cuda.is_available() else 'cpu')\n",
        "    print(f\"Using device: {device}\")\n",
        "\n",
        "    if device.type == 'cuda':\n",
        "        print(f\"GPU: {torch.cuda.get_device_name(0)}\")\n",
        "        print(f\"Memory: {torch.cuda.get_device_properties(0).total_memory / 1e9:.1f} GB\")\n",
        "\n",
        "    # Create datasets\n",
        "    print(\"\\nCreating datasets...\")\n",
        "\n",
        "    # Define data paths (update these to match your setup)\n",
        "    flood_train_img_dir = os.path.join(config.Data_Root, 'FloodNet/train/train-org-img')\n",
        "    flood_train_mask_dir = os.path.join(config.Data_Root, 'FloodNet/train/train-label-img')\n",
        "    # ... (add all other paths)\n",
        "\n",
        "    # Create augmentation pipelines\n",
        "    train_transform = get_training_augmentation()\n",
        "    val_transform = get_validation_augmentation()\n",
        "\n",
        "    # Create datasets\n",
        "    flood_train_dataset = FloodNetDataset(FloodNet_train_img_dir, FloodNet_train_mask_dir, train_transform)\n",
        "    flood_val_dataset = FloodNetDataset(FloodNet_val_img_dir, FloodNet_val_mask_dir, val_transform)\n",
        "    flood_test_dataset = FloodNetDataset(FloodNet_test_img_dir, FloodNet_test_mask_dir, val_transform)\n",
        "\n",
        "    damage_train_dataset = RescueNetDataset(RescueNet_train_img_dir, RescueNet_train_mask_dir, train_transform)\n",
        "    damage_val_dataset = RescueNetDataset(RescueNet_val_img_dir, RescueNet_val_mask_dir, val_transform)\n",
        "    damage_test_dataset = RescueNetDataset(RescueNet_test_img_dir, RescueNet_test_mask_dir, val_transform)\n",
        "\n",
        "    # Create dataloaders\n",
        "    print(\"Creating dataloaders...\")\n",
        "\n",
        "    flood_train_loader = DataLoader(\n",
        "        flood_train_dataset,\n",
        "        batch_size=config.batch_size,\n",
        "        shuffle=True,\n",
        "        num_workers=config.num_workers,\n",
        "        pin_memory=config.pin_memory,\n",
        "        prefetch_factor=config.prefetch_factor,\n",
        "        persistent_workers=config.persistent_workers\n",
        "    )\n",
        "\n",
        "    flood_val_loader = DataLoader(\n",
        "        flood_val_dataset,\n",
        "        batch_size=config.batch_size * 2,\n",
        "        shuffle=False,\n",
        "        num_workers=config.num_workers,\n",
        "        pin_memory=config.pin_memory,\n",
        "        prefetch_factor=config.prefetch_factor,\n",
        "        persistent_workers=config.persistent_workers\n",
        "    )\n",
        "\n",
        "    flood_test_loader = DataLoader(\n",
        "        flood_test_dataset,\n",
        "        batch_size=config.batch_size * 2,\n",
        "        shuffle=False,\n",
        "        num_workers=config.num_workers,\n",
        "        pin_memory=config.pin_memory,\n",
        "        prefetch_factor=config.prefetch_factor,\n",
        "        persistent_workers=config.persistent_workers\n",
        "    )\n",
        "\n",
        "    damage_train_loader = DataLoader(\n",
        "        damage_train_dataset,\n",
        "        batch_size=config.batch_size,\n",
        "        shuffle=True,\n",
        "        num_workers=config.num_workers,\n",
        "        pin_memory=config.pin_memory,\n",
        "        prefetch_factor=config.prefetch_factor,\n",
        "        persistent_workers=config.persistent_workers\n",
        "    )\n",
        "\n",
        "    damage_val_loader = DataLoader(\n",
        "        damage_val_dataset,\n",
        "        batch_size=config.batch_size * 2,\n",
        "        shuffle=False,\n",
        "        num_workers=config.num_workers,\n",
        "        pin_memory=config.pin_memory,\n",
        "        prefetch_factor=config.prefetch_factor,\n",
        "        persistent_workers=config.persistent_workers\n",
        "    )\n",
        "\n",
        "    damage_test_loader = DataLoader(\n",
        "        damage_test_dataset,\n",
        "        batch_size=config.batch_size * 2,\n",
        "        shuffle=False,\n",
        "        num_workers=config.num_workers,\n",
        "        pin_memory=config.pin_memory,\n",
        "        prefetch_factor=config.prefetch_factor,\n",
        "        persistent_workers=config.persistent_workers\n",
        "    )\n",
        "\n",
        "    # Initialize model\n",
        "    print(\"\\nInitializing model...\")\n",
        "    model = EnhancedDisasterModel(\n",
        "        num_classes_flood=config.num_classes_flood,\n",
        "        num_classes_damage=config.num_classes_damage,\n",
        "        backbone=config.backbone\n",
        "    )\n",
        "    model = model.to(device)\n",
        "\n",
        "    # Count parameters\n",
        "    total_params = sum(p.numel() for p in model.parameters())\n",
        "    trainable_params = sum(p.numel() for p in model.parameters() if p.requires_grad)\n",
        "    print(f\"Total parameters: {total_params:,}\")\n",
        "    print(f\"Trainable parameters: {trainable_params:,}\")\n",
        "\n",
        "    # Initialize trainer\n",
        "    trainer = OptimizedTrainer(model, config, device)\n",
        "\n",
        "    # Optional: Resume from checkpoint\n",
        "    start_epoch = 0\n",
        "    if os.path.exists(os.path.join(config.Checkpoint_Dir, 'best_model.pth')):\n",
        "        response = input(\"Found existing checkpoint. Resume training? (y/n): \")\n",
        "        if response.lower() == 'y':\n",
        "            start_epoch = trainer.load_checkpoint(\n",
        "                os.path.join(config.Checkpoint_Dir, 'best_model.pth')\n",
        "            )\n",
        "\n",
        "    # Training loop\n",
        "    print(f\"\\nStarting training from epoch {start_epoch + 1}...\")\n",
        "    print(f\"Total epochs: {config.num_epochs}\")\n",
        "    print(f\"Batch size: {config.batch_size}\")\n",
        "    print(f\"Effective batch size: {config.batch_size * config.accumulation_steps}\")\n",
        "\n",
        "    best_combined_score = 0.0\n",
        "\n",
        "    for epoch in range(start_epoch + 1, config.num_epochs + 1):\n",
        "        print(f\"\\n{'='*60}\")\n",
        "        print(f\"EPOCH {epoch}/{config.num_epochs}\")\n",
        "        print('='*60)\n",
        "\n",
        "        # Training\n",
        "        flood_loss, damage_loss = trainer.train_epoch(\n",
        "            flood_train_loader, damage_train_loader, epoch\n",
        "        )\n",
        "\n",
        "        # Validation (every 2 epochs to save time)\n",
        "        if epoch % 2 == 0 or epoch == config.num_epochs:\n",
        "            print(\"\\nRunning validation...\")\n",
        "\n",
        "            # Validate flood task\n",
        "            flood_val_loss, flood_iou, flood_class_ious = trainer.validate(\n",
        "                flood_val_loader, 'flood', config.num_classes_flood\n",
        "            )\n",
        "\n",
        "            # Validate damage task\n",
        "            damage_val_loss, damage_iou, damage_class_ious = trainer.validate(\n",
        "                damage_val_loader, 'damage', config.num_classes_damage\n",
        "            )\n",
        "\n",
        "            # Store metrics\n",
        "            trainer.val_metrics['flood_iou'].append(flood_iou)\n",
        "            trainer.val_metrics['damage_iou'].append(damage_iou)\n",
        "\n",
        "            # Check if best model\n",
        "            combined_score = (flood_iou + damage_iou) / 2\n",
        "            is_best = combined_score > best_combined_score\n",
        "\n",
        "            if is_best:\n",
        "                best_combined_score = combined_score\n",
        "                trainer.best_flood_iou = flood_iou\n",
        "                trainer.best_damage_iou = damage_iou\n",
        "\n",
        "            # Save checkpoint\n",
        "            flood_metrics = {'iou': flood_iou, 'loss': flood_val_loss, 'class_ious': flood_class_ious}\n",
        "            damage_metrics = {'iou': damage_iou, 'loss': damage_val_loss, 'class_ious': damage_class_ious}\n",
        "\n",
        "            trainer.save_checkpoint(epoch, flood_metrics, damage_metrics, is_best)\n",
        "\n",
        "        # Plot training history\n",
        "        if epoch % 5 == 0:\n",
        "            trainer.plot_training_history()\n",
        "\n",
        "    # Final evaluation on test set\n",
        "    print(\"\\n\" + \"=\"*60)\n",
        "    print(\"FINAL EVALUATION ON TEST SET\")\n",
        "    print(\"=\"*60)\n",
        "\n",
        "    # Test flood detection\n",
        "    print(\"\\nFlood Detection Test Results:\")\n",
        "    flood_test_loss, flood_test_iou, flood_test_class_ious = trainer.test(\n",
        "        flood_test_loader, 'flood', config.num_classes_flood\n",
        "    )\n",
        "\n",
        "    # Test damage assessment\n",
        "    print(\"\\nDamage Assessment Test Results:\")\n",
        "    damage_test_loss, damage_test_iou, damage_test_class_ious = trainer.test(\n",
        "        damage_test_loader, 'damage', config.num_classes_damage\n",
        "    )\n",
        "\n",
        "    # Save final results\n",
        "    final_results = {\n",
        "        'flood_test': {\n",
        "            'mean_iou': flood_test_iou,\n",
        "            'class_ious': flood_test_class_ious.tolist(),\n",
        "            'loss': flood_test_loss\n",
        "        },\n",
        "        'damage_test': {\n",
        "            'mean_iou': damage_test_iou,\n",
        "            'class_ious': damage_test_class_ious.tolist(),\n",
        "            'loss': damage_test_loss\n",
        "        },\n",
        "        'training_config': config.__dict__\n",
        "    }\n",
        "\n",
        "    import json\n",
        "    with open(os.path.join(config.Results_Dir, 'final_results.json'), 'w') as f:\n",
        "        json.dump(final_results, f, indent=2)\n",
        "\n",
        "    print(\"\\nTraining complete!\")\n",
        "    print(f\"Best Flood IoU: {trainer.best_flood_iou:.4f}\")\n",
        "    print(f\"Best Damage IoU: {trainer.best_damage_iou:.4f}\")\n",
        "    print(f\"Results saved to {config.Results_Dir}\")\n",
        "\n",
        "    return model, trainer\n"
      ]
    },
    {
      "cell_type": "code",
      "execution_count": 29,
      "metadata": {
        "id": "uo4oz6kitqtH",
        "colab": {
          "base_uri": "https://localhost:8080/"
        },
        "outputId": "74279fb8-74d6-404d-d5ff-dad8aaf4d8fa"
      },
      "outputs": [
        {
          "metadata": {
            "tags": null
          },
          "name": "stdout",
          "output_type": "stream",
          "text": [
            "Using device: cuda\n",
            "GPU: NVIDIA A100-SXM4-40GB\n",
            "Memory: 42.5 GB\n",
            "\n",
            "Creating datasets...\n",
            "Creating dataloaders...\n",
            "\n",
            "Initializing model...\n"
          ]
        },
        {
          "metadata": {
            "tags": null
          },
          "name": "stderr",
          "output_type": "stream",
          "text": [
            "/usr/local/lib/python3.12/dist-packages/albumentations/core/validation.py:114: UserWarning: ShiftScaleRotate is a special case of Affine transform. Please use Affine transform instead.\n",
            "  original_init(self, **validated_kwargs)\n",
            "/tmp/ipython-input-2411865059.py:42: UserWarning: Argument(s) 'var_limit' are not valid for transform GaussNoise\n",
            "  A.GaussNoise(var_limit=(10.0, 50.0), p=0.2),\n",
            "/usr/local/lib/python3.12/dist-packages/torchvision/models/_utils.py:208: UserWarning: The parameter 'pretrained' is deprecated since 0.13 and may be removed in the future, please use 'weights' instead.\n",
            "  warnings.warn(\n",
            "/usr/local/lib/python3.12/dist-packages/torchvision/models/_utils.py:223: UserWarning: Arguments other than a weight enum or `None` for 'weights' are deprecated since 0.13 and may be removed in the future. The current behavior is equivalent to passing `weights=DeepLabV3_ResNet101_Weights.COCO_WITH_VOC_LABELS_V1`. You can also use `weights=DeepLabV3_ResNet101_Weights.DEFAULT` to get the most up-to-date weights.\n",
            "  warnings.warn(msg)\n"
          ]
        },
        {
          "metadata": {
            "tags": null
          },
          "name": "stdout",
          "output_type": "stream",
          "text": [
            "Downloading: \"https://download.pytorch.org/models/deeplabv3_resnet101_coco-586e9e4e.pth\" to /root/.cache/torch/hub/checkpoints/deeplabv3_resnet101_coco-586e9e4e.pth\n"
          ]
        },
        {
          "metadata": {
            "tags": null
          },
          "name": "stderr",
          "output_type": "stream",
          "text": [
            "100%|██████████| 233M/233M [00:01<00:00, 204MB/s]\n"
          ]
        },
        {
          "metadata": {
            "tags": null
          },
          "name": "stdout",
          "output_type": "stream",
          "text": [
            "Using ResNet101 backbone\n",
            "Total parameters: 63,422,632\n",
            "Trainable parameters: 63,422,632\n",
            "\n",
            "Starting training from epoch 1...\n",
            "Total epochs: 30\n",
            "Batch size: 32\n",
            "Effective batch size: 128\n",
            "\n",
            "============================================================\n",
            "EPOCH 1/30\n",
            "============================================================\n"
          ]
        },
        {
          "metadata": {
            "tags": null
          },
          "name": "stderr",
          "output_type": "stream",
          "text": [
            "/tmp/ipython-input-2275243253.py:8: FutureWarning: `torch.cuda.amp.GradScaler(args...)` is deprecated. Please use `torch.amp.GradScaler('cuda', args...)` instead.\n",
            "  self.scaler = GradScaler()\n",
            "Epoch 1/30:   0%|          | 0/113 [00:00<?, ?it/s]/tmp/ipython-input-2275243253.py:153: FutureWarning: `torch.cuda.amp.autocast(args...)` is deprecated. Please use `torch.amp.autocast('cuda', args...)` instead.\n",
            "  with autocast():\n",
            "Epoch 1/30: 100%|██████████| 113/113 [04:19<00:00,  2.29s/it, flood_loss=0.3002, damage_loss=0.6416, lr=1.00e-05]\n"
          ]
        },
        {
          "metadata": {
            "tags": null
          },
          "name": "stdout",
          "output_type": "stream",
          "text": [
            "\n",
            "============================================================\n",
            "EPOCH 2/30\n",
            "============================================================\n"
          ]
        },
        {
          "metadata": {
            "tags": null
          },
          "name": "stderr",
          "output_type": "stream",
          "text": [
            "Epoch 2/30: 100%|██████████| 113/113 [04:02<00:00,  2.14s/it, flood_loss=0.2405, damage_loss=0.5608, lr=1.00e-05]\n"
          ]
        },
        {
          "metadata": {
            "tags": null
          },
          "name": "stdout",
          "output_type": "stream",
          "text": [
            "\n",
            "Running validation...\n"
          ]
        },
        {
          "metadata": {
            "tags": null
          },
          "name": "stderr",
          "output_type": "stream",
          "text": [
            "Validating flood:   0%|          | 0/8 [00:00<?, ?it/s]/tmp/ipython-input-2275243253.py:201: FutureWarning: `torch.cuda.amp.autocast(args...)` is deprecated. Please use `torch.amp.autocast('cuda', args...)` instead.\n",
            "  with autocast():\n",
            "Validating flood: 100%|██████████| 8/8 [00:34<00:00,  4.27s/it, loss=0.2072]\n"
          ]
        },
        {
          "metadata": {
            "tags": null
          },
          "name": "stdout",
          "output_type": "stream",
          "text": [
            "\n",
            "FLOOD Validation Results:\n",
            "Average Loss: 0.2392\n",
            "Mean IoU: 0.4925\n",
            "Mean Dice: 0.8419\n",
            "Pixel Accuracy: 0.9711\n",
            "  Non-Flooded IoU: 0.0144\n",
            "  Flooded IoU: 0.9706\n"
          ]
        },
        {
          "metadata": {
            "tags": null
          },
          "name": "stderr",
          "output_type": "stream",
          "text": [
            "Validating damage: 100%|██████████| 8/8 [00:20<00:00,  2.62s/it, loss=0.1802]\n"
          ]
        },
        {
          "metadata": {
            "tags": null
          },
          "name": "stdout",
          "output_type": "stream",
          "text": [
            "\n",
            "DAMAGE Validation Results:\n",
            "Average Loss: 0.4346\n",
            "Mean IoU: 0.4445\n",
            "Mean Dice: 0.5720\n",
            "Pixel Accuracy: 0.8068\n",
            "  No Damage IoU: 0.6548\n",
            "  Minor IoU: 0.4040\n",
            "  Major IoU: 0.2228\n",
            "  Destroyed IoU: 0.4964\n",
            "Saved checkpoint: /content/checkpoints/checkpoint_epoch_002.pth\n",
            "Saved best model: /content/checkpoints/best_model.pth\n",
            "\n",
            "============================================================\n",
            "EPOCH 3/30\n",
            "============================================================\n"
          ]
        },
        {
          "metadata": {
            "tags": null
          },
          "name": "stderr",
          "output_type": "stream",
          "text": [
            "Epoch 3/30: 100%|██████████| 113/113 [04:02<00:00,  2.15s/it, flood_loss=0.2186, damage_loss=0.4906, lr=1.00e-05]\n"
          ]
        },
        {
          "metadata": {
            "tags": null
          },
          "name": "stdout",
          "output_type": "stream",
          "text": [
            "\n",
            "============================================================\n",
            "EPOCH 4/30\n",
            "============================================================\n"
          ]
        },
        {
          "metadata": {
            "tags": null
          },
          "name": "stderr",
          "output_type": "stream",
          "text": [
            "Epoch 4/30: 100%|██████████| 113/113 [04:11<00:00,  2.23s/it, flood_loss=0.2073, damage_loss=0.4645, lr=1.00e-05]\n"
          ]
        },
        {
          "metadata": {
            "tags": null
          },
          "name": "stdout",
          "output_type": "stream",
          "text": [
            "\n",
            "Running validation...\n"
          ]
        },
        {
          "metadata": {
            "tags": null
          },
          "name": "stderr",
          "output_type": "stream",
          "text": [
            "Validating flood: 100%|██████████| 8/8 [00:27<00:00,  3.44s/it, loss=0.1698]\n"
          ]
        },
        {
          "metadata": {
            "tags": null
          },
          "name": "stdout",
          "output_type": "stream",
          "text": [
            "\n",
            "FLOOD Validation Results:\n",
            "Average Loss: 0.2063\n",
            "Mean IoU: 0.4867\n",
            "Mean Dice: 0.8512\n",
            "Pixel Accuracy: 0.9721\n",
            "  Non-Flooded IoU: 0.0014\n",
            "  Flooded IoU: 0.9720\n"
          ]
        },
        {
          "metadata": {
            "tags": null
          },
          "name": "stderr",
          "output_type": "stream",
          "text": [
            "Validating damage: 100%|██████████| 8/8 [00:18<00:00,  2.32s/it, loss=0.1792]\n"
          ]
        },
        {
          "metadata": {
            "tags": null
          },
          "name": "stdout",
          "output_type": "stream",
          "text": [
            "\n",
            "DAMAGE Validation Results:\n",
            "Average Loss: 0.3744\n",
            "Mean IoU: 0.5087\n",
            "Mean Dice: 0.6311\n",
            "Pixel Accuracy: 0.8383\n",
            "  No Damage IoU: 0.6927\n",
            "  Minor IoU: 0.4660\n",
            "  Major IoU: 0.3138\n",
            "  Destroyed IoU: 0.5621\n",
            "Saved checkpoint: /content/checkpoints/checkpoint_epoch_004.pth\n",
            "Saved best model: /content/checkpoints/best_model.pth\n",
            "\n",
            "============================================================\n",
            "EPOCH 5/30\n",
            "============================================================\n"
          ]
        },
        {
          "output_type": "stream",
          "name": "stderr",
          "text": [
            "Epoch 5/30: 100%|██████████| 113/113 [04:16<00:00,  2.27s/it, flood_loss=0.2010, damage_loss=0.4398, lr=1.00e-05]\n"
          ]
        },
        {
          "output_type": "stream",
          "name": "stdout",
          "text": [
            "Training history plot saved to /content/results/training_history.png\n",
            "\n",
            "============================================================\n",
            "EPOCH 6/30\n",
            "============================================================\n"
          ]
        },
        {
          "output_type": "stream",
          "name": "stderr",
          "text": [
            "Epoch 6/30: 100%|██████████| 113/113 [04:08<00:00,  2.20s/it, flood_loss=0.2003, damage_loss=0.4224, lr=1.00e-05]\n"
          ]
        },
        {
          "output_type": "stream",
          "name": "stdout",
          "text": [
            "\n",
            "Running validation...\n"
          ]
        },
        {
          "output_type": "stream",
          "name": "stderr",
          "text": [
            "Validating flood: 100%|██████████| 8/8 [00:26<00:00,  3.34s/it, loss=0.1614]\n"
          ]
        },
        {
          "output_type": "stream",
          "name": "stdout",
          "text": [
            "\n",
            "FLOOD Validation Results:\n",
            "Average Loss: 0.1934\n",
            "Mean IoU: 0.5019\n",
            "Mean Dice: 0.9040\n",
            "Pixel Accuracy: 0.9765\n",
            "  Non-Flooded IoU: 0.0286\n",
            "  Flooded IoU: 0.9752\n"
          ]
        },
        {
          "output_type": "stream",
          "name": "stderr",
          "text": [
            "Validating damage: 100%|██████████| 8/8 [00:19<00:00,  2.45s/it, loss=0.1728]\n"
          ]
        },
        {
          "output_type": "stream",
          "name": "stdout",
          "text": [
            "\n",
            "DAMAGE Validation Results:\n",
            "Average Loss: 0.3486\n",
            "Mean IoU: 0.5372\n",
            "Mean Dice: 0.6548\n",
            "Pixel Accuracy: 0.8509\n",
            "  No Damage IoU: 0.7047\n",
            "  Minor IoU: 0.5015\n",
            "  Major IoU: 0.3442\n",
            "  Destroyed IoU: 0.5985\n",
            "Saved checkpoint: /content/checkpoints/checkpoint_epoch_006.pth\n",
            "Saved best model: /content/checkpoints/best_model.pth\n",
            "\n",
            "============================================================\n",
            "EPOCH 7/30\n",
            "============================================================\n"
          ]
        },
        {
          "output_type": "stream",
          "name": "stderr",
          "text": [
            "Epoch 7/30: 100%|██████████| 113/113 [04:01<00:00,  2.13s/it, flood_loss=0.1915, damage_loss=0.4098, lr=1.00e-05]\n"
          ]
        },
        {
          "output_type": "stream",
          "name": "stdout",
          "text": [
            "\n",
            "============================================================\n",
            "EPOCH 8/30\n",
            "============================================================\n"
          ]
        },
        {
          "output_type": "stream",
          "name": "stderr",
          "text": [
            "Epoch 8/30: 100%|██████████| 113/113 [04:00<00:00,  2.13s/it, flood_loss=0.1884, damage_loss=0.4003, lr=1.00e-05]\n"
          ]
        },
        {
          "output_type": "stream",
          "name": "stdout",
          "text": [
            "\n",
            "Running validation...\n"
          ]
        },
        {
          "output_type": "stream",
          "name": "stderr",
          "text": [
            "Validating flood: 100%|██████████| 8/8 [00:26<00:00,  3.27s/it, loss=0.1592]\n"
          ]
        },
        {
          "output_type": "stream",
          "name": "stdout",
          "text": [
            "\n",
            "FLOOD Validation Results:\n",
            "Average Loss: 0.1856\n",
            "Mean IoU: 0.5121\n",
            "Mean Dice: 0.9166\n",
            "Pixel Accuracy: 0.9774\n",
            "  Non-Flooded IoU: 0.0486\n",
            "  Flooded IoU: 0.9757\n"
          ]
        },
        {
          "output_type": "stream",
          "name": "stderr",
          "text": [
            "Validating damage: 100%|██████████| 8/8 [00:16<00:00,  2.11s/it, loss=0.1731]\n"
          ]
        },
        {
          "output_type": "stream",
          "name": "stdout",
          "text": [
            "\n",
            "DAMAGE Validation Results:\n",
            "Average Loss: 0.3332\n",
            "Mean IoU: 0.5515\n",
            "Mean Dice: 0.6713\n",
            "Pixel Accuracy: 0.8585\n",
            "  No Damage IoU: 0.7174\n",
            "  Minor IoU: 0.5031\n",
            "  Major IoU: 0.3753\n",
            "  Destroyed IoU: 0.6103\n",
            "Saved checkpoint: /content/checkpoints/checkpoint_epoch_008.pth\n",
            "Saved best model: /content/checkpoints/best_model.pth\n",
            "\n",
            "============================================================\n",
            "EPOCH 9/30\n",
            "============================================================\n"
          ]
        },
        {
          "output_type": "stream",
          "name": "stderr",
          "text": [
            "Epoch 9/30: 100%|██████████| 113/113 [04:02<00:00,  2.15s/it, flood_loss=0.1822, damage_loss=0.3966, lr=1.00e-05]\n"
          ]
        },
        {
          "output_type": "stream",
          "name": "stdout",
          "text": [
            "\n",
            "============================================================\n",
            "EPOCH 10/30\n",
            "============================================================\n"
          ]
        },
        {
          "output_type": "stream",
          "name": "stderr",
          "text": [
            "Epoch 10/30: 100%|██████████| 113/113 [04:03<00:00,  2.15s/it, flood_loss=0.1834, damage_loss=0.3863, lr=1.00e-05]\n"
          ]
        },
        {
          "output_type": "stream",
          "name": "stdout",
          "text": [
            "\n",
            "Running validation...\n"
          ]
        },
        {
          "output_type": "stream",
          "name": "stderr",
          "text": [
            "Validating flood: 100%|██████████| 8/8 [00:25<00:00,  3.24s/it, loss=0.1556]\n"
          ]
        },
        {
          "output_type": "stream",
          "name": "stdout",
          "text": [
            "\n",
            "FLOOD Validation Results:\n",
            "Average Loss: 0.1803\n",
            "Mean IoU: 0.5556\n",
            "Mean Dice: 0.9258\n",
            "Pixel Accuracy: 0.9815\n",
            "  Non-Flooded IoU: 0.1334\n",
            "  Flooded IoU: 0.9779\n"
          ]
        },
        {
          "output_type": "stream",
          "name": "stderr",
          "text": [
            "Validating damage: 100%|██████████| 8/8 [00:17<00:00,  2.22s/it, loss=0.1665]\n"
          ]
        },
        {
          "output_type": "stream",
          "name": "stdout",
          "text": [
            "\n",
            "DAMAGE Validation Results:\n",
            "Average Loss: 0.3238\n",
            "Mean IoU: 0.5607\n",
            "Mean Dice: 0.6786\n",
            "Pixel Accuracy: 0.8630\n",
            "  No Damage IoU: 0.7219\n",
            "  Minor IoU: 0.5261\n",
            "  Major IoU: 0.3803\n",
            "  Destroyed IoU: 0.6146\n",
            "Saved checkpoint: /content/checkpoints/checkpoint_epoch_010.pth\n",
            "Saved best model: /content/checkpoints/best_model.pth\n",
            "Training history plot saved to /content/results/training_history.png\n",
            "\n",
            "============================================================\n",
            "EPOCH 11/30\n",
            "============================================================\n"
          ]
        },
        {
          "output_type": "stream",
          "name": "stderr",
          "text": [
            "Epoch 11/30: 100%|██████████| 113/113 [04:12<00:00,  2.24s/it, flood_loss=0.1811, damage_loss=0.3904, lr=1.00e-05]\n"
          ]
        },
        {
          "output_type": "stream",
          "name": "stdout",
          "text": [
            "\n",
            "============================================================\n",
            "EPOCH 12/30\n",
            "============================================================\n"
          ]
        },
        {
          "output_type": "stream",
          "name": "stderr",
          "text": [
            "Epoch 12/30: 100%|██████████| 113/113 [04:13<00:00,  2.25s/it, flood_loss=0.1782, damage_loss=0.3767, lr=1.00e-05]\n"
          ]
        },
        {
          "output_type": "stream",
          "name": "stdout",
          "text": [
            "\n",
            "Running validation...\n"
          ]
        },
        {
          "output_type": "stream",
          "name": "stderr",
          "text": [
            "Validating flood: 100%|██████████| 8/8 [00:27<00:00,  3.47s/it, loss=0.1550]\n"
          ]
        },
        {
          "output_type": "stream",
          "name": "stdout",
          "text": [
            "\n",
            "FLOOD Validation Results:\n",
            "Average Loss: 0.1783\n",
            "Mean IoU: 0.5662\n",
            "Mean Dice: 0.9248\n",
            "Pixel Accuracy: 0.9832\n",
            "  Non-Flooded IoU: 0.1530\n",
            "  Flooded IoU: 0.9794\n"
          ]
        },
        {
          "output_type": "stream",
          "name": "stderr",
          "text": [
            "Validating damage: 100%|██████████| 8/8 [00:20<00:00,  2.54s/it, loss=0.1662]\n"
          ]
        },
        {
          "output_type": "stream",
          "name": "stdout",
          "text": [
            "\n",
            "DAMAGE Validation Results:\n",
            "Average Loss: 0.3149\n",
            "Mean IoU: 0.5631\n",
            "Mean Dice: 0.6785\n",
            "Pixel Accuracy: 0.8689\n",
            "  No Damage IoU: 0.7280\n",
            "  Minor IoU: 0.5010\n",
            "  Major IoU: 0.3876\n",
            "  Destroyed IoU: 0.6358\n",
            "Saved checkpoint: /content/checkpoints/checkpoint_epoch_012.pth\n",
            "Saved best model: /content/checkpoints/best_model.pth\n",
            "\n",
            "============================================================\n",
            "EPOCH 13/30\n",
            "============================================================\n"
          ]
        },
        {
          "output_type": "stream",
          "name": "stderr",
          "text": [
            "Epoch 13/30: 100%|██████████| 113/113 [04:17<00:00,  2.27s/it, flood_loss=0.1788, damage_loss=0.3816, lr=1.00e-05]\n"
          ]
        },
        {
          "output_type": "stream",
          "name": "stdout",
          "text": [
            "\n",
            "============================================================\n",
            "EPOCH 14/30\n",
            "============================================================\n"
          ]
        },
        {
          "output_type": "stream",
          "name": "stderr",
          "text": [
            "Epoch 14/30: 100%|██████████| 113/113 [04:08<00:00,  2.20s/it, flood_loss=0.1777, damage_loss=0.3632, lr=1.00e-05]\n"
          ]
        },
        {
          "output_type": "stream",
          "name": "stdout",
          "text": [
            "\n",
            "Running validation...\n"
          ]
        },
        {
          "output_type": "stream",
          "name": "stderr",
          "text": [
            "Validating flood: 100%|██████████| 8/8 [00:28<00:00,  3.60s/it, loss=0.1547]\n"
          ]
        },
        {
          "output_type": "stream",
          "name": "stdout",
          "text": [
            "\n",
            "FLOOD Validation Results:\n",
            "Average Loss: 0.1789\n",
            "Mean IoU: 0.5616\n",
            "Mean Dice: 0.8718\n",
            "Pixel Accuracy: 0.9811\n",
            "  Non-Flooded IoU: 0.1493\n",
            "  Flooded IoU: 0.9740\n"
          ]
        },
        {
          "output_type": "stream",
          "name": "stderr",
          "text": [
            "Validating damage: 100%|██████████| 8/8 [00:18<00:00,  2.37s/it, loss=0.1652]\n"
          ]
        },
        {
          "output_type": "stream",
          "name": "stdout",
          "text": [
            "\n",
            "DAMAGE Validation Results:\n",
            "Average Loss: 0.3128\n",
            "Mean IoU: 0.5706\n",
            "Mean Dice: 0.6869\n",
            "Pixel Accuracy: 0.8719\n",
            "  No Damage IoU: 0.7333\n",
            "  Minor IoU: 0.5300\n",
            "  Major IoU: 0.3814\n",
            "  Destroyed IoU: 0.6375\n",
            "Saved checkpoint: /content/checkpoints/checkpoint_epoch_014.pth\n",
            "Saved best model: /content/checkpoints/best_model.pth\n",
            "\n",
            "============================================================\n",
            "EPOCH 15/30\n",
            "============================================================\n"
          ]
        },
        {
          "output_type": "stream",
          "name": "stderr",
          "text": [
            "Epoch 15/30: 100%|██████████| 113/113 [04:12<00:00,  2.23s/it, flood_loss=0.1744, damage_loss=0.3636, lr=1.00e-05]\n"
          ]
        },
        {
          "output_type": "stream",
          "name": "stdout",
          "text": [
            "Training history plot saved to /content/results/training_history.png\n",
            "\n",
            "============================================================\n",
            "EPOCH 16/30\n",
            "============================================================\n"
          ]
        },
        {
          "output_type": "stream",
          "name": "stderr",
          "text": [
            "Epoch 16/30: 100%|██████████| 113/113 [04:11<00:00,  2.22s/it, flood_loss=0.1772, damage_loss=0.3634, lr=1.00e-05]\n"
          ]
        },
        {
          "output_type": "stream",
          "name": "stdout",
          "text": [
            "\n",
            "Running validation...\n"
          ]
        },
        {
          "output_type": "stream",
          "name": "stderr",
          "text": [
            "Validating flood: 100%|██████████| 8/8 [00:28<00:00,  3.53s/it, loss=0.1532]\n"
          ]
        },
        {
          "output_type": "stream",
          "name": "stdout",
          "text": [
            "\n",
            "FLOOD Validation Results:\n",
            "Average Loss: 0.1823\n",
            "Mean IoU: 0.5423\n",
            "Mean Dice: 0.8786\n",
            "Pixel Accuracy: 0.9807\n",
            "  Non-Flooded IoU: 0.1082\n",
            "  Flooded IoU: 0.9764\n"
          ]
        },
        {
          "output_type": "stream",
          "name": "stderr",
          "text": [
            "Validating damage: 100%|██████████| 8/8 [00:19<00:00,  2.40s/it, loss=0.1655]\n"
          ]
        },
        {
          "output_type": "stream",
          "name": "stdout",
          "text": [
            "\n",
            "DAMAGE Validation Results:\n",
            "Average Loss: 0.3108\n",
            "Mean IoU: 0.5733\n",
            "Mean Dice: 0.6950\n",
            "Pixel Accuracy: 0.8738\n",
            "  No Damage IoU: 0.7448\n",
            "  Minor IoU: 0.5267\n",
            "  Major IoU: 0.3771\n",
            "  Destroyed IoU: 0.6446\n",
            "Saved checkpoint: /content/checkpoints/checkpoint_epoch_016.pth\n",
            "\n",
            "============================================================\n",
            "EPOCH 17/30\n",
            "============================================================\n"
          ]
        },
        {
          "output_type": "stream",
          "name": "stderr",
          "text": [
            "Epoch 17/30: 100%|██████████| 113/113 [04:14<00:00,  2.25s/it, flood_loss=0.1724, damage_loss=0.3498, lr=1.00e-05]\n"
          ]
        },
        {
          "output_type": "stream",
          "name": "stdout",
          "text": [
            "\n",
            "============================================================\n",
            "EPOCH 18/30\n",
            "============================================================\n"
          ]
        },
        {
          "output_type": "stream",
          "name": "stderr",
          "text": [
            "Epoch 18/30: 100%|██████████| 113/113 [04:12<00:00,  2.23s/it, flood_loss=0.1728, damage_loss=0.3571, lr=1.00e-05]\n"
          ]
        },
        {
          "output_type": "stream",
          "name": "stdout",
          "text": [
            "\n",
            "Running validation...\n"
          ]
        },
        {
          "output_type": "stream",
          "name": "stderr",
          "text": [
            "Validating flood: 100%|██████████| 8/8 [00:27<00:00,  3.38s/it, loss=0.1529]\n"
          ]
        },
        {
          "output_type": "stream",
          "name": "stdout",
          "text": [
            "\n",
            "FLOOD Validation Results:\n",
            "Average Loss: 0.1736\n",
            "Mean IoU: 0.5914\n",
            "Mean Dice: 0.9092\n",
            "Pixel Accuracy: 0.9851\n",
            "  Non-Flooded IoU: 0.2020\n",
            "  Flooded IoU: 0.9808\n"
          ]
        },
        {
          "output_type": "stream",
          "name": "stderr",
          "text": [
            "Validating damage: 100%|██████████| 8/8 [00:19<00:00,  2.40s/it, loss=0.1656]\n"
          ]
        },
        {
          "output_type": "stream",
          "name": "stdout",
          "text": [
            "\n",
            "DAMAGE Validation Results:\n",
            "Average Loss: 0.3016\n",
            "Mean IoU: 0.5841\n",
            "Mean Dice: 0.6985\n",
            "Pixel Accuracy: 0.8772\n",
            "  No Damage IoU: 0.7466\n",
            "  Minor IoU: 0.5328\n",
            "  Major IoU: 0.4045\n",
            "  Destroyed IoU: 0.6525\n",
            "Saved checkpoint: /content/checkpoints/checkpoint_epoch_018.pth\n",
            "Saved best model: /content/checkpoints/best_model.pth\n",
            "\n",
            "============================================================\n",
            "EPOCH 19/30\n",
            "============================================================\n"
          ]
        },
        {
          "output_type": "stream",
          "name": "stderr",
          "text": [
            "Epoch 19/30: 100%|██████████| 113/113 [04:12<00:00,  2.24s/it, flood_loss=0.1714, damage_loss=0.3536, lr=1.00e-05]\n"
          ]
        },
        {
          "output_type": "stream",
          "name": "stdout",
          "text": [
            "\n",
            "============================================================\n",
            "EPOCH 20/30\n",
            "============================================================\n"
          ]
        },
        {
          "output_type": "stream",
          "name": "stderr",
          "text": [
            "Epoch 20/30: 100%|██████████| 113/113 [04:15<00:00,  2.26s/it, flood_loss=0.1673, damage_loss=0.3537, lr=1.00e-05]\n"
          ]
        },
        {
          "output_type": "stream",
          "name": "stdout",
          "text": [
            "\n",
            "Running validation...\n"
          ]
        },
        {
          "output_type": "stream",
          "name": "stderr",
          "text": [
            "Validating flood: 100%|██████████| 8/8 [00:26<00:00,  3.28s/it, loss=0.1527]\n"
          ]
        },
        {
          "output_type": "stream",
          "name": "stdout",
          "text": [
            "\n",
            "FLOOD Validation Results:\n",
            "Average Loss: 0.1733\n",
            "Mean IoU: 0.5849\n",
            "Mean Dice: 0.9141\n",
            "Pixel Accuracy: 0.9855\n",
            "  Non-Flooded IoU: 0.1872\n",
            "  Flooded IoU: 0.9827\n"
          ]
        },
        {
          "output_type": "stream",
          "name": "stderr",
          "text": [
            "Validating damage: 100%|██████████| 8/8 [00:17<00:00,  2.19s/it, loss=0.1680]\n"
          ]
        },
        {
          "output_type": "stream",
          "name": "stdout",
          "text": [
            "\n",
            "DAMAGE Validation Results:\n",
            "Average Loss: 0.2971\n",
            "Mean IoU: 0.5879\n",
            "Mean Dice: 0.7036\n",
            "Pixel Accuracy: 0.8797\n",
            "  No Damage IoU: 0.7558\n",
            "  Minor IoU: 0.5106\n",
            "  Major IoU: 0.4269\n",
            "  Destroyed IoU: 0.6582\n",
            "Saved checkpoint: /content/checkpoints/checkpoint_epoch_020.pth\n",
            "Training history plot saved to /content/results/training_history.png\n",
            "\n",
            "============================================================\n",
            "EPOCH 21/30\n",
            "============================================================\n"
          ]
        },
        {
          "output_type": "stream",
          "name": "stderr",
          "text": [
            "Epoch 21/30: 100%|██████████| 113/113 [04:12<00:00,  2.24s/it, flood_loss=0.1707, damage_loss=0.3433, lr=1.00e-05]\n"
          ]
        },
        {
          "output_type": "stream",
          "name": "stdout",
          "text": [
            "\n",
            "============================================================\n",
            "EPOCH 22/30\n",
            "============================================================\n"
          ]
        },
        {
          "output_type": "stream",
          "name": "stderr",
          "text": [
            "Epoch 22/30: 100%|██████████| 113/113 [04:19<00:00,  2.29s/it, flood_loss=0.1695, damage_loss=0.3437, lr=1.00e-05]\n"
          ]
        },
        {
          "output_type": "stream",
          "name": "stdout",
          "text": [
            "\n",
            "Running validation...\n"
          ]
        },
        {
          "output_type": "stream",
          "name": "stderr",
          "text": [
            "Validating flood: 100%|██████████| 8/8 [00:27<00:00,  3.50s/it, loss=0.1522]\n"
          ]
        },
        {
          "output_type": "stream",
          "name": "stdout",
          "text": [
            "\n",
            "FLOOD Validation Results:\n",
            "Average Loss: 0.1751\n",
            "Mean IoU: 0.5744\n",
            "Mean Dice: 0.8845\n",
            "Pixel Accuracy: 0.9824\n",
            "  Non-Flooded IoU: 0.1734\n",
            "  Flooded IoU: 0.9753\n"
          ]
        },
        {
          "output_type": "stream",
          "name": "stderr",
          "text": [
            "Validating damage: 100%|██████████| 8/8 [00:16<00:00,  2.07s/it, loss=0.1665]\n"
          ]
        },
        {
          "output_type": "stream",
          "name": "stdout",
          "text": [
            "\n",
            "DAMAGE Validation Results:\n",
            "Average Loss: 0.3004\n",
            "Mean IoU: 0.5875\n",
            "Mean Dice: 0.7061\n",
            "Pixel Accuracy: 0.8805\n",
            "  No Damage IoU: 0.7552\n",
            "  Minor IoU: 0.5247\n",
            "  Major IoU: 0.4060\n",
            "  Destroyed IoU: 0.6640\n",
            "Saved checkpoint: /content/checkpoints/checkpoint_epoch_022.pth\n",
            "\n",
            "============================================================\n",
            "EPOCH 23/30\n",
            "============================================================\n"
          ]
        },
        {
          "output_type": "stream",
          "name": "stderr",
          "text": [
            "Epoch 23/30: 100%|██████████| 113/113 [04:14<00:00,  2.25s/it, flood_loss=0.1718, damage_loss=0.3430, lr=1.00e-05]\n"
          ]
        },
        {
          "output_type": "stream",
          "name": "stdout",
          "text": [
            "\n",
            "============================================================\n",
            "EPOCH 24/30\n",
            "============================================================\n"
          ]
        },
        {
          "output_type": "stream",
          "name": "stderr",
          "text": [
            "Epoch 24/30: 100%|██████████| 113/113 [04:19<00:00,  2.29s/it, flood_loss=0.1659, damage_loss=0.3441, lr=1.00e-05]\n"
          ]
        },
        {
          "output_type": "stream",
          "name": "stdout",
          "text": [
            "\n",
            "Running validation...\n"
          ]
        },
        {
          "output_type": "stream",
          "name": "stderr",
          "text": [
            "Validating flood: 100%|██████████| 8/8 [00:26<00:00,  3.28s/it, loss=0.1519]\n"
          ]
        },
        {
          "output_type": "stream",
          "name": "stdout",
          "text": [
            "\n",
            "FLOOD Validation Results:\n",
            "Average Loss: 0.1753\n",
            "Mean IoU: 0.5853\n",
            "Mean Dice: 0.9064\n",
            "Pixel Accuracy: 0.9850\n",
            "  Non-Flooded IoU: 0.1892\n",
            "  Flooded IoU: 0.9814\n"
          ]
        },
        {
          "output_type": "stream",
          "name": "stderr",
          "text": [
            "Validating damage: 100%|██████████| 8/8 [00:16<00:00,  2.04s/it, loss=0.1648]\n"
          ]
        },
        {
          "output_type": "stream",
          "name": "stdout",
          "text": [
            "\n",
            "DAMAGE Validation Results:\n",
            "Average Loss: 0.3070\n",
            "Mean IoU: 0.5927\n",
            "Mean Dice: 0.7078\n",
            "Pixel Accuracy: 0.8784\n",
            "  No Damage IoU: 0.7462\n",
            "  Minor IoU: 0.5303\n",
            "  Major IoU: 0.4356\n",
            "  Destroyed IoU: 0.6586\n",
            "Saved checkpoint: /content/checkpoints/checkpoint_epoch_024.pth\n",
            "Saved best model: /content/checkpoints/best_model.pth\n",
            "\n",
            "============================================================\n",
            "EPOCH 25/30\n",
            "============================================================\n"
          ]
        },
        {
          "output_type": "stream",
          "name": "stderr",
          "text": [
            "Epoch 25/30: 100%|██████████| 113/113 [04:14<00:00,  2.25s/it, flood_loss=0.1683, damage_loss=0.3433, lr=1.00e-05]\n"
          ]
        },
        {
          "output_type": "stream",
          "name": "stdout",
          "text": [
            "Training history plot saved to /content/results/training_history.png\n",
            "\n",
            "============================================================\n",
            "EPOCH 26/30\n",
            "============================================================\n"
          ]
        },
        {
          "output_type": "stream",
          "name": "stderr",
          "text": [
            "Epoch 26/30: 100%|██████████| 113/113 [04:09<00:00,  2.21s/it, flood_loss=0.1663, damage_loss=0.3315, lr=1.00e-05]\n"
          ]
        },
        {
          "output_type": "stream",
          "name": "stdout",
          "text": [
            "\n",
            "Running validation...\n"
          ]
        },
        {
          "output_type": "stream",
          "name": "stderr",
          "text": [
            "Validating flood: 100%|██████████| 8/8 [00:25<00:00,  3.23s/it, loss=0.1520]\n"
          ]
        },
        {
          "output_type": "stream",
          "name": "stdout",
          "text": [
            "\n",
            "FLOOD Validation Results:\n",
            "Average Loss: 0.1713\n",
            "Mean IoU: 0.5864\n",
            "Mean Dice: 0.8932\n",
            "Pixel Accuracy: 0.9842\n",
            "  Non-Flooded IoU: 0.1927\n",
            "  Flooded IoU: 0.9801\n"
          ]
        },
        {
          "output_type": "stream",
          "name": "stderr",
          "text": [
            "Validating damage: 100%|██████████| 8/8 [00:16<00:00,  2.12s/it, loss=0.1631]\n"
          ]
        },
        {
          "output_type": "stream",
          "name": "stdout",
          "text": [
            "\n",
            "DAMAGE Validation Results:\n",
            "Average Loss: 0.2976\n",
            "Mean IoU: 0.5977\n",
            "Mean Dice: 0.7138\n",
            "Pixel Accuracy: 0.8817\n",
            "  No Damage IoU: 0.7540\n",
            "  Minor IoU: 0.5254\n",
            "  Major IoU: 0.4417\n",
            "  Destroyed IoU: 0.6699\n",
            "Saved checkpoint: /content/checkpoints/checkpoint_epoch_026.pth\n",
            "Saved best model: /content/checkpoints/best_model.pth\n",
            "\n",
            "============================================================\n",
            "EPOCH 27/30\n",
            "============================================================\n"
          ]
        },
        {
          "output_type": "stream",
          "name": "stderr",
          "text": [
            "Epoch 27/30: 100%|██████████| 113/113 [04:11<00:00,  2.23s/it, flood_loss=0.1626, damage_loss=0.3298, lr=1.00e-05]\n"
          ]
        },
        {
          "output_type": "stream",
          "name": "stdout",
          "text": [
            "\n",
            "============================================================\n",
            "EPOCH 28/30\n",
            "============================================================\n"
          ]
        },
        {
          "output_type": "stream",
          "name": "stderr",
          "text": [
            "Epoch 28/30: 100%|██████████| 113/113 [04:16<00:00,  2.27s/it, flood_loss=0.1631, damage_loss=0.3309, lr=1.00e-05]\n"
          ]
        },
        {
          "output_type": "stream",
          "name": "stdout",
          "text": [
            "\n",
            "Running validation...\n"
          ]
        },
        {
          "output_type": "stream",
          "name": "stderr",
          "text": [
            "Validating flood: 100%|██████████| 8/8 [00:27<00:00,  3.46s/it, loss=0.1515]\n"
          ]
        },
        {
          "output_type": "stream",
          "name": "stdout",
          "text": [
            "\n",
            "FLOOD Validation Results:\n",
            "Average Loss: 0.1749\n",
            "Mean IoU: 0.5968\n",
            "Mean Dice: 0.9160\n",
            "Pixel Accuracy: 0.9862\n",
            "  Non-Flooded IoU: 0.2099\n",
            "  Flooded IoU: 0.9836\n"
          ]
        },
        {
          "output_type": "stream",
          "name": "stderr",
          "text": [
            "Validating damage: 100%|██████████| 8/8 [00:19<00:00,  2.42s/it, loss=0.1615]\n"
          ]
        },
        {
          "output_type": "stream",
          "name": "stdout",
          "text": [
            "\n",
            "DAMAGE Validation Results:\n",
            "Average Loss: 0.2960\n",
            "Mean IoU: 0.6088\n",
            "Mean Dice: 0.7229\n",
            "Pixel Accuracy: 0.8815\n",
            "  No Damage IoU: 0.7546\n",
            "  Minor IoU: 0.5613\n",
            "  Major IoU: 0.4457\n",
            "  Destroyed IoU: 0.6738\n",
            "Saved checkpoint: /content/checkpoints/checkpoint_epoch_028.pth\n",
            "Saved best model: /content/checkpoints/best_model.pth\n",
            "\n",
            "============================================================\n",
            "EPOCH 29/30\n",
            "============================================================\n"
          ]
        },
        {
          "output_type": "stream",
          "name": "stderr",
          "text": [
            "Epoch 29/30: 100%|██████████| 113/113 [04:01<00:00,  2.14s/it, flood_loss=0.1615, damage_loss=0.3246, lr=1.00e-05]\n"
          ]
        },
        {
          "output_type": "stream",
          "name": "stdout",
          "text": [
            "\n",
            "============================================================\n",
            "EPOCH 30/30\n",
            "============================================================\n"
          ]
        },
        {
          "output_type": "stream",
          "name": "stderr",
          "text": [
            "Epoch 30/30: 100%|██████████| 113/113 [04:04<00:00,  2.16s/it, flood_loss=0.1652, damage_loss=0.3279, lr=1.00e-05]\n"
          ]
        },
        {
          "output_type": "stream",
          "name": "stdout",
          "text": [
            "\n",
            "Running validation...\n"
          ]
        },
        {
          "output_type": "stream",
          "name": "stderr",
          "text": [
            "Validating flood: 100%|██████████| 8/8 [00:25<00:00,  3.18s/it, loss=0.1512]\n"
          ]
        },
        {
          "output_type": "stream",
          "name": "stdout",
          "text": [
            "\n",
            "FLOOD Validation Results:\n",
            "Average Loss: 0.1700\n",
            "Mean IoU: 0.5764\n",
            "Mean Dice: 0.8725\n",
            "Pixel Accuracy: 0.9838\n",
            "  Non-Flooded IoU: 0.1730\n",
            "  Flooded IoU: 0.9799\n"
          ]
        },
        {
          "output_type": "stream",
          "name": "stderr",
          "text": [
            "Validating damage: 100%|██████████| 8/8 [00:16<00:00,  2.09s/it, loss=0.1648]\n"
          ]
        },
        {
          "output_type": "stream",
          "name": "stdout",
          "text": [
            "\n",
            "DAMAGE Validation Results:\n",
            "Average Loss: 0.2893\n",
            "Mean IoU: 0.6137\n",
            "Mean Dice: 0.7257\n",
            "Pixel Accuracy: 0.8861\n",
            "  No Damage IoU: 0.7569\n",
            "  Minor IoU: 0.5644\n",
            "  Major IoU: 0.4591\n",
            "  Destroyed IoU: 0.6746\n",
            "Saved checkpoint: /content/checkpoints/checkpoint_epoch_030.pth\n",
            "Training history plot saved to /content/results/training_history.png\n",
            "\n",
            "============================================================\n",
            "FINAL EVALUATION ON TEST SET\n",
            "============================================================\n",
            "\n",
            "Flood Detection Test Results:\n"
          ]
        },
        {
          "output_type": "stream",
          "name": "stderr",
          "text": [
            "Validating flood: 100%|██████████| 7/7 [00:22<00:00,  3.17s/it, loss=0.2075]\n"
          ]
        },
        {
          "output_type": "stream",
          "name": "stdout",
          "text": [
            "\n",
            "FLOOD Validation Results:\n",
            "Average Loss: 0.1764\n",
            "Mean IoU: 0.5847\n",
            "Mean Dice: 0.8647\n",
            "Pixel Accuracy: 0.9848\n",
            "  Non-Flooded IoU: 0.1875\n",
            "  Flooded IoU: 0.9820\n",
            "\n",
            "Damage Assessment Test Results:\n"
          ]
        },
        {
          "output_type": "stream",
          "name": "stderr",
          "text": [
            "Validating damage: 100%|██████████| 8/8 [00:29<00:00,  3.70s/it, loss=0.2928]"
          ]
        },
        {
          "output_type": "stream",
          "name": "stdout",
          "text": [
            "\n",
            "DAMAGE Validation Results:\n",
            "Average Loss: 0.3456\n",
            "Mean IoU: 0.5783\n",
            "Mean Dice: 0.6954\n",
            "Pixel Accuracy: 0.8663\n",
            "  No Damage IoU: 0.7324\n",
            "  Minor IoU: 0.5099\n",
            "  Major IoU: 0.4198\n",
            "  Destroyed IoU: 0.6513\n",
            "\n",
            "Training complete!\n",
            "Best Flood IoU: 0.5968\n",
            "Best Damage IoU: 0.6088\n",
            "Results saved to /content/results\n"
          ]
        },
        {
          "output_type": "stream",
          "name": "stderr",
          "text": [
            "\n"
          ]
        }
      ],
      "source": [
        "if __name__ == '__main__':\n",
        "    config = Config()\n",
        "    model, trainer = train_complete_model(config)"
      ]
    },
    {
      "cell_type": "code",
      "source": [
        "def test_on_new_image(model_path, image_path):\n",
        "    device = torch.device('cuda' if torch.cuda.is_available() else 'cpu')\n",
        "\n",
        "    # Load model\n",
        "    checkpoint = torch.load(model_path,\n",
        "                           map_location=device,\n",
        "                           weights_only=False)\n",
        "\n",
        "    # Create model instance\n",
        "    model = EnhancedDisasterModel()\n",
        "    model.load_state_dict(checkpoint['model_state_dict'])\n",
        "    model.to(device)  # Move model to device\n",
        "    model.eval()\n",
        "\n",
        "    # Process image\n",
        "    image = cv2.imread(image_path)\n",
        "    if image is None:\n",
        "        raise ValueError(f\"Could not load image from {image_path}\")\n",
        "\n",
        "    image = cv2.cvtColor(image, cv2.COLOR_BGR2RGB)\n",
        "\n",
        "    transform = get_validation_augmentation()\n",
        "    input_tensor = transform(image=image)['image']\n",
        "    input_tensor = input_tensor.unsqueeze(0).to(device)\n",
        "\n",
        "    # Make predictions\n",
        "    with torch.no_grad():\n",
        "        flood_out, damage_out = model(input_tensor)\n",
        "\n",
        "    flood_pred = torch.argmax(flood_out, dim=1)[0].cpu().numpy()\n",
        "    damage_pred = torch.argmax(damage_out, dim=1)[0].cpu().numpy()\n",
        "\n",
        "    # Visualize results\n",
        "    fig, axes = plt.subplots(1, 3, figsize=(15, 5))\n",
        "\n",
        "    axes[0].imshow(image)\n",
        "    axes[0].set_title('Original Image')\n",
        "    axes[0].axis('off')\n",
        "\n",
        "    axes[1].imshow(flood_pred, cmap='Blues')\n",
        "    axes[1].set_title('Flood Prediction')\n",
        "    axes[1].axis('off')\n",
        "\n",
        "    axes[2].imshow(damage_pred, cmap='Reds')\n",
        "    axes[2].set_title('Damage Prediction')\n",
        "    axes[2].axis('off')\n",
        "\n",
        "    plt.show()\n",
        "    return flood_pred, damage_pred\n",
        "\n",
        "# Call it with a valid image path\n",
        "flood_mask, damage_mask = test_on_new_image(\n",
        "    '/content/checkpoints/best_model.pth',\n",
        "    '/content/drive/MyDrive/G.E.M.S./Test Images/Hurricane-Helene-Asheville-NC_35.574034_-82.526808.jpg'\n",
        ")"
      ],
      "metadata": {
        "colab": {
          "base_uri": "https://localhost:8080/",
          "height": 418
        },
        "id": "CPZIYd8lOafe",
        "outputId": "dfc5a42e-985b-4623-9659-5f0ae904bcb0"
      },
      "execution_count": 38,
      "outputs": [
        {
          "output_type": "stream",
          "name": "stdout",
          "text": [
            "Using ResNet101 backbone\n"
          ]
        },
        {
          "output_type": "display_data",
          "data": {
            "text/plain": [
              "<Figure size 1500x500 with 3 Axes>"
            ],
            "image/png": "[encoded data removed]"
          },
          "metadata": {}
        }
      ]
    },
    {
      "cell_type": "code",
      "source": [
        "print(f\"Flood pixels: {(flood_mask == 1).sum()}\")\n",
        "print(f\"Damage distribution: {np.bincount(damage_mask.flatten())}\")"
      ],
      "metadata": {
        "colab": {
          "base_uri": "https://localhost:8080/"
        },
        "id": "ZslDks6aWCEq",
        "outputId": "0c619128-717e-47b1-f547-e4a09faaceea"
      },
      "execution_count": 39,
      "outputs": [
        {
          "output_type": "stream",
          "name": "stdout",
          "text": [
            "Flood pixels: 262144\n",
            "Damage distribution: [144573   5134   6657 105780]\n"
          ]
        }
      ]
    }
  ],
  "metadata": {
    "accelerator": "GPU",
    "colab": {
      "gpuType": "A100",
      "machine_shape": "hm",
      "provenance": []
    },
    "kernelspec": {
      "display_name": "Python 3",
      "name": "python3"
    },
    "language_info": {
      "name": "python"
    }
  },
  "nbformat": 4,
  "nbformat_minor": 0
}